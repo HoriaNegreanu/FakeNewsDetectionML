{
  "cells": [
    {
      "cell_type": "markdown",
      "metadata": {
        "id": "oywISQGWYAjP"
      },
      "source": [
        "Importing libraries"
      ]
    },
    {
      "cell_type": "code",
      "execution_count": null,
      "metadata": {
        "id": "ZndPSAsTV7mQ"
      },
      "outputs": [],
      "source": [
        "!pip install accelerate -U\n",
        "\n",
        "import sys\n",
        "import sklearn\n",
        "import matplotlib.pyplot as plt\n",
        "import numpy as np\n",
        "import pandas as pd\n",
        "import nltk\n",
        "import re\n",
        "import string\n",
        "import torch\n",
        "\n",
        "from transformers import Trainer, TrainingArguments\n",
        "from torch.optim import AdamW\n",
        "from accelerate import Accelerator\n",
        "from sklearn.metrics import accuracy_score, classification_report, confusion_matrix\n",
        "from pandas import DataFrame\n",
        "from sklearn.model_selection import train_test_split\n",
        "from sklearn.feature_extraction.text import TfidfVectorizer\n",
        "from sklearn.linear_model import LogisticRegression\n",
        "from sklearn.svm import SVC\n",
        "from sklearn.naive_bayes import MultinomialNB\n",
        "from sklearn.feature_extraction.text import CountVectorizer\n",
        "from torch.utils.data import DataLoader, TensorDataset"
      ]
    },
    {
      "cell_type": "markdown",
      "metadata": {
        "id": "ZAyYVZ12YGgu"
      },
      "source": [
        "Load data from files into a single dataframe with 3 columns: title, text, label"
      ]
    },
    {
      "cell_type": "code",
      "execution_count": null,
      "metadata": {
        "colab": {
          "base_uri": "https://localhost:8080/"
        },
        "id": "PZnKYukxWJzn",
        "outputId": "a5e37cf9-f471-47a0-fc15-00d462fd662c"
      },
      "outputs": [
        {
          "output_type": "stream",
          "name": "stdout",
          "text": [
            "<class 'pandas.core.frame.DataFrame'>\n",
            "Index: 12551 entries, 0 to 1163\n",
            "Data columns (total 3 columns):\n",
            " #   Column  Non-Null Count  Dtype \n",
            "---  ------  --------------  ----- \n",
            " 0   title   12551 non-null  object\n",
            " 1   text    12551 non-null  object\n",
            " 2   label   12551 non-null  object\n",
            "dtypes: object(3)\n",
            "memory usage: 392.2+ KB\n",
            "None\n"
          ]
        }
      ],
      "source": [
        "fakeOrRealData = pd.read_csv('drive/MyDrive/datasets/fake_or_real_news.csv');\n",
        "fakeOrRealData['label'] = fakeOrRealData['label'].str.lower();\n",
        "\n",
        "newsArticles = pd.read_csv('drive/MyDrive/datasets/news_articles.csv');\n",
        "newsArticles['label'] = newsArticles['label'].str.lower();\n",
        "newsArticles = newsArticles[10:] #remove first 10 articles to use for manual testing\n",
        "\n",
        "covidNews = pd.read_csv('drive/MyDrive/datasets/COVID-19 fake news.csv');\n",
        "covidNews = covidNews[10:] #remove first 10 articles to use for manual testing\n",
        "covidNews['label'] = covidNews['label'].replace({0: 'fake', 1: 'real'});\n",
        "\n",
        "covidNews2 = pd.read_csv('drive/MyDrive/datasets/corona_fake.csv');\n",
        "covidNews2['label'] = covidNews2['label'].replace({'Fake': 'fake', 'TRUE': 'real'});\n",
        "\n",
        "labeled_data = pd.concat([fakeOrRealData[['title','text', 'label']], newsArticles[['title','text', 'label']], covidNews[['title','text', 'label']], covidNews2[['title','text', 'label']]]);\n",
        "labeled_data = labeled_data.dropna();\n",
        "print(labeled_data.info());"
      ]
    },
    {
      "cell_type": "markdown",
      "metadata": {
        "id": "Owcbn_vXf-HR"
      },
      "source": [
        "Visualize the distribution of 'real' and 'fake' news"
      ]
    },
    {
      "cell_type": "code",
      "execution_count": null,
      "metadata": {
        "colab": {
          "base_uri": "https://localhost:8080/",
          "height": 428
        },
        "id": "4jiW0iyRdTQh",
        "outputId": "4ba48bc4-95ec-40bc-bbf8-203efe7fd663"
      },
      "outputs": [
        {
          "output_type": "display_data",
          "data": {
            "text/plain": [
              "<Figure size 640x480 with 1 Axes>"
            ],
            "image/png": "[encoded data removed]"
          },
          "metadata": {}
        }
      ],
      "source": [
        "#Visualize data\n",
        "label_counts = labeled_data['label'].value_counts();\n",
        "fig, ax = plt.subplots();\n",
        "ax.pie(label_counts, labels=label_counts.index, autopct='%1.1f%%', startangle=90);\n",
        "ax.set_aspect('equal');  # Equal aspect ratio so that the pie chart is circular\n",
        "ax.set_title('Distribution of Labels');\n",
        "plt.show();"
      ]
    },
    {
      "cell_type": "markdown",
      "metadata": {
        "id": "OUTUXeRNAsaY"
      },
      "source": [
        "Prepare data by processing text. Remove stopwords from the data, whitespaces, URLs, non-alphanumeric characters etc"
      ]
    },
    {
      "cell_type": "code",
      "execution_count": null,
      "metadata": {
        "colab": {
          "base_uri": "https://localhost:8080/"
        },
        "id": "Go9Xd3GYAsMu",
        "outputId": "d9e5517d-5946-4c04-c5c5-312638c146a0"
      },
      "outputs": [
        {
          "output_type": "stream",
          "name": "stderr",
          "text": [
            "[nltk_data] Downloading package stopwords to /root/nltk_data...\n",
            "[nltk_data]   Package stopwords is already up-to-date!\n",
            "[nltk_data] Downloading package punkt to /root/nltk_data...\n",
            "[nltk_data]   Package punkt is already up-to-date!\n"
          ]
        },
        {
          "output_type": "stream",
          "name": "stdout",
          "text": [
            "Finished processing text\n"
          ]
        }
      ],
      "source": [
        "from nltk.corpus import stopwords\n",
        "from nltk.tokenize import word_tokenize\n",
        "\n",
        "nltk.download('stopwords');\n",
        "nltk.download('punkt');\n",
        "\n",
        "stop_words2 = set(stopwords.words('english'));\n",
        "\n",
        "def remove_stopwords(text):\n",
        "   tokens = word_tokenize(text);\n",
        "   filtered_tokens = [word for word in tokens if word.lower() not in stop_words2];\n",
        "   filtered_text = ' '.join(filtered_tokens);\n",
        "   return filtered_text;\n",
        "\n",
        "def process_text(text):\n",
        "    text = text.lower().split();\n",
        "    text = \" \".join(text); #remove extra whitespaces\n",
        "    text = re.sub('\\n', '', text); #remove newlines\n",
        "    text = re.sub(r\"[^0-9a-zA-Z]+\",' ',text); #Replace any non-alphanumeric characters\n",
        "    text = re.sub('https?://\\S+|www\\.\\S+', '', text); #remove URLs\n",
        "    text = re.sub('[%s]' % re.escape(string.punctuation), '', text); #remove punctuation\n",
        "    text = re.sub('\\w*\\d\\w*', '', text); #remove words containing digits\n",
        "    return text;\n",
        "\n",
        "labeled_data_processed = labeled_data\n",
        "\n",
        "# Remove stopwords from the 'text' column\n",
        "#labeled_data_processed['text'] = labeled_data['text'].apply(remove_stopwords);\n",
        "#print(\"Removed stopwords\");\n",
        "labeled_data_processed['text'] = labeled_data['text'].apply(process_text);\n",
        "print(\"Finished processing text\");"
      ]
    },
    {
      "cell_type": "markdown",
      "metadata": {
        "id": "zbEiTeZgzePG"
      },
      "source": [
        "Splitting data into training and testing datasets. 80% of the total dataset will be used for training, and the remaining 20% will be used to test the performance of the model"
      ]
    },
    {
      "cell_type": "code",
      "execution_count": null,
      "metadata": {
        "colab": {
          "base_uri": "https://localhost:8080/"
        },
        "id": "CniYj5N1gK-d",
        "outputId": "0170d1a6-d0d8-4b48-ee0b-a75041b3fe8d"
      },
      "outputs": [
        {
          "output_type": "stream",
          "name": "stdout",
          "text": [
            "Training dataset size: 10040\n",
            "Testing dataset size: 2511\n"
          ]
        }
      ],
      "source": [
        "x_features = labeled_data_processed[['title', 'text']];\n",
        "x_features['combined_text'] = x_features['title'] + ' ' + x_features['text'];\n",
        "x = x_features['combined_text'];\n",
        "\n",
        "y = labeled_data_processed['label'];\n",
        "\n",
        "vectorizer = TfidfVectorizer(stop_words='english');\n",
        "x_vectorized = vectorizer.fit_transform(x);\n",
        "\n",
        "# Split the data into training and testing datasets\n",
        "x_train, x_test, y_train, y_test = train_test_split(x_vectorized, y, test_size=0.2, random_state=30);\n",
        "print('Training dataset size: ' + str(x_train.shape[0]));\n",
        "print('Testing dataset size: ' + str(x_test.shape[0]));"
      ]
    },
    {
      "cell_type": "markdown",
      "metadata": {
        "id": "DyspT-uDjIPU"
      },
      "source": [
        "\n",
        "# Training models\n",
        "Logistic regression model\n",
        "\n",
        "With removed stopwords: 0.83 accuracy\n",
        "\n",
        "Without removed stopwords: 0.83 accuracy"
      ]
    },
    {
      "cell_type": "code",
      "execution_count": null,
      "metadata": {
        "colab": {
          "base_uri": "https://localhost:8080/"
        },
        "id": "FMXFiNkivJ_s",
        "outputId": "b66c4c64-bab1-4276-ef14-7598abcebe04"
      },
      "outputs": [
        {
          "output_type": "stream",
          "name": "stdout",
          "text": [
            "Accuracy: 0.8315412186379928\n",
            "\n",
            "Classification Report:\n",
            "              precision    recall  f1-score   support\n",
            "\n",
            "        fake       0.81      0.84      0.83      1199\n",
            "        real       0.85      0.82      0.84      1312\n",
            "\n",
            "    accuracy                           0.83      2511\n",
            "   macro avg       0.83      0.83      0.83      2511\n",
            "weighted avg       0.83      0.83      0.83      2511\n",
            "\n"
          ]
        }
      ],
      "source": [
        "model = LogisticRegression(max_iter=1000);\n",
        "#model = SVC(kernel='linear');\n",
        "#model = MultinomialNB();\n",
        "\n",
        "# Train model\n",
        "model.fit(x_train, y_train);\n",
        "\n",
        "# Test model and stats\n",
        "y_predicted = model.predict(x_test);\n",
        "\n",
        "accuracy = accuracy_score(y_test, y_predicted);\n",
        "print(\"Accuracy:\", accuracy);\n",
        "\n",
        "print(\"\\nClassification Report:\");\n",
        "print(classification_report(y_test, y_predicted));"
      ]
    },
    {
      "cell_type": "markdown",
      "metadata": {
        "id": "ZgJ-HUXIjLWb"
      },
      "source": [
        "Support vector machine (SVM) model\n",
        "\n",
        "With removed stopwords: 0.84 accuracy\n",
        "\n",
        "Witout removed stopwords: 0.84 accuracy"
      ]
    },
    {
      "cell_type": "code",
      "execution_count": null,
      "metadata": {
        "colab": {
          "base_uri": "https://localhost:8080/"
        },
        "id": "d8P5NwoejPHI",
        "outputId": "a39cf71e-445e-424b-bf4e-564e145ef4af"
      },
      "outputs": [
        {
          "output_type": "stream",
          "name": "stdout",
          "text": [
            "Accuracy: 0.8454798884906412\n",
            "\n",
            "Classification Report:\n",
            "              precision    recall  f1-score   support\n",
            "\n",
            "        fake       0.84      0.84      0.84      1199\n",
            "        real       0.85      0.85      0.85      1312\n",
            "\n",
            "    accuracy                           0.85      2511\n",
            "   macro avg       0.85      0.85      0.85      2511\n",
            "weighted avg       0.85      0.85      0.85      2511\n",
            "\n"
          ]
        }
      ],
      "source": [
        "svm_classifier = SVC(kernel='linear');  # You can choose different kernels (e.g., 'linear', 'rbf')\n",
        "\n",
        "# Train model\n",
        "svm_classifier.fit(x_train, y_train);\n",
        "\n",
        "# Test model and stats\n",
        "y_predicted = svm_classifier.predict(x_test);\n",
        "\n",
        "accuracy = accuracy_score(y_test, y_predicted);\n",
        "print(\"Accuracy:\", accuracy);\n",
        "\n",
        "print(\"\\nClassification Report:\");\n",
        "print(classification_report(y_test, y_predicted));"
      ]
    },
    {
      "cell_type": "markdown",
      "metadata": {
        "id": "p1qtYLJgmGVF"
      },
      "source": [
        "Multinomial Naive Bayes (MNB) model\n",
        "\n",
        "With removed stopwords: 0.77 accuracy\n",
        "\n",
        "Witout removed stopwords: 0.77 accuracy"
      ]
    },
    {
      "cell_type": "code",
      "execution_count": null,
      "metadata": {
        "colab": {
          "base_uri": "https://localhost:8080/"
        },
        "id": "JNDtWLCLmG3H",
        "outputId": "eb4cd566-853b-42d5-89d7-3d8e139bb313"
      },
      "outputs": [
        {
          "output_type": "stream",
          "name": "stdout",
          "text": [
            "Accuracy: 0.7765830346475507\n",
            "\n",
            "Classification Report:\n",
            "              precision    recall  f1-score   support\n",
            "\n",
            "        fake       0.89      0.61      0.72      1199\n",
            "        real       0.72      0.93      0.81      1312\n",
            "\n",
            "    accuracy                           0.78      2511\n",
            "   macro avg       0.81      0.77      0.77      2511\n",
            "weighted avg       0.80      0.78      0.77      2511\n",
            "\n"
          ]
        }
      ],
      "source": [
        "naive_bayes_classifier = MultinomialNB();\n",
        "\n",
        "# Train model\n",
        "naive_bayes_classifier.fit(x_train, y_train);\n",
        "\n",
        "# Test model and stats\n",
        "y_predicted = naive_bayes_classifier.predict(x_test);\n",
        "\n",
        "accuracy = accuracy_score(y_test, y_predicted);\n",
        "print(\"Accuracy:\", accuracy);\n",
        "\n",
        "print(\"\\nClassification Report:\");\n",
        "print(classification_report(y_test, y_predicted));"
      ]
    },
    {
      "cell_type": "markdown",
      "metadata": {
        "id": "9wKi-5acgpVH"
      },
      "source": [
        "# Predict manual input"
      ]
    },
    {
      "cell_type": "code",
      "execution_count": null,
      "metadata": {
        "colab": {
          "base_uri": "https://localhost:8080/"
        },
        "id": "TeWX9r7Yh1yG",
        "outputId": "be0d6d11-d147-4e42-a476-3c4abcfc9269"
      },
      "outputs": [
        {
          "name": "stdout",
          "output_type": "stream",
          "text": [
            "Enter article title: dr david duke and dr slattery expose hillarys treason and why trump  duke will win\n",
            "Enter article text: watch dr dukes powerful new television commercial   am  watch dr dukes new television commercial\n",
            "Logistic regression predicted label: real\n"
          ]
        }
      ],
      "source": [
        "def predict_article(label_model, tfidf_vectorizer, article_title, article_text):\n",
        "    combined_text = article_title + ' ' + article_text;\n",
        "    vectorized_input = tfidf_vectorizer.transform([combined_text]);\n",
        "    predicted_label = label_model.predict(vectorized_input);\n",
        "    return predicted_label[0];\n",
        "\n",
        "def remove_stopwords(text):\n",
        "   tokens = word_tokenize(text);\n",
        "   filtered_tokens = [word for word in tokens if word.lower() not in stop_words2];\n",
        "   filtered_text = ' '.join(filtered_tokens);\n",
        "   return filtered_text;\n",
        "\n",
        "def process_text(text):\n",
        "    text = text.lower().split();\n",
        "    text = \" \".join(text); #remove extra whitespaces\n",
        "    text = re.sub('\\n', '', text); #remove newlines\n",
        "    return text;\n",
        "\n",
        "#Input article title and text\n",
        "article_title = input(\"Enter article title: \");\n",
        "article_text = input(\"Enter article text: \");\n",
        "#article_text = remove_stopwords(article_text);\n",
        "article_text = process_text(article_text);\n",
        "\n",
        "#maybe add processing to input, such as removing stopwords\n",
        "\n",
        "predicted_label = predict_article(logistic_regression_model, vectorizer, article_title, article_text);\n",
        "print(\"Logistic regression predicted label:\", predicted_label);"
      ]
    },
    {
      "cell_type": "markdown",
      "metadata": {
        "id": "OPP_345YnE2X"
      },
      "source": [
        "# Hugging transformer models\n",
        "There is a lack of Hugging transformer models use"
      ]
    },
    {
      "cell_type": "code",
      "execution_count": null,
      "metadata": {
        "id": "9k5GIcZDze4k",
        "colab": {
          "base_uri": "https://localhost:8080/"
        },
        "outputId": "250da7d2-9d4f-453e-e9b4-dfa069a59a53"
      },
      "outputs": [
        {
          "output_type": "stream",
          "name": "stderr",
          "text": [
            "[nltk_data] Downloading package stopwords to /root/nltk_data...\n",
            "[nltk_data]   Unzipping corpora/stopwords.zip.\n",
            "[nltk_data] Downloading package punkt to /root/nltk_data...\n",
            "[nltk_data]   Unzipping tokenizers/punkt.zip.\n"
          ]
        },
        {
          "output_type": "stream",
          "name": "stdout",
          "text": [
            "Finished processing text\n"
          ]
        }
      ],
      "source": [
        "from nltk.corpus import stopwords\n",
        "from nltk.tokenize import word_tokenize\n",
        "\n",
        "nltk.download('stopwords');\n",
        "nltk.download('punkt');\n",
        "\n",
        "stop_words2 = set(stopwords.words('english'));\n",
        "\n",
        "def remove_stopwords(text):\n",
        "   tokens = word_tokenize(text);\n",
        "   filtered_tokens = [word for word in tokens if word.lower() not in stop_words2];\n",
        "   filtered_text = ' '.join(filtered_tokens);\n",
        "   return filtered_text;\n",
        "\n",
        "def process_text(text):\n",
        "    text = text.lower().split();\n",
        "    text = \" \".join(text); #remove extra whitespaces\n",
        "    text = re.sub('\\n', '', text); #remove newlines\n",
        "    text = re.sub(r\"[^0-9a-zA-Z]+\",' ',text); #Replace any non-alphanumeric characters\n",
        "    text = re.sub('https?://\\S+|www\\.\\S+', '', text); #remove URLs\n",
        "    text = re.sub('[%s]' % re.escape(string.punctuation), '', text); #remove punctuation\n",
        "    text = re.sub('\\w*\\d\\w*', '', text); #remove words containing digits\n",
        "    return text;\n",
        "\n",
        "labeled_data_processed = labeled_data\n",
        "\n",
        "# Remove stopwords from the 'text' column\n",
        "#labeled_data_processed['text'] = labeled_data_processed['text'].apply(remove_stopwords);\n",
        "#print(\"Removed stopwords\");\n",
        "labeled_data_processed['text'] = labeled_data_processed['text'].apply(process_text);\n",
        "print(\"Finished processing text\");\n",
        "\n",
        "x_features = labeled_data_processed[['title', 'text']];\n",
        "x_features['combined_text'] = x_features['title'] + ' ' + x_features['text'];\n",
        "x = x_features['combined_text'];\n",
        "\n",
        "y = labeled_data_processed['label'];\n",
        "\n",
        "x_train, x_test, y_train, y_test = train_test_split(x, y, test_size=0.2, random_state=30);"
      ]
    },
    {
      "cell_type": "markdown",
      "metadata": {
        "id": "ZEP1ooTv0BtL"
      },
      "source": [
        "BERT-base-cased model\n",
        "\n",
        "With text processing: 0.88\n",
        "\n",
        "With text processing and removed stopwords: 0.88"
      ]
    },
    {
      "cell_type": "code",
      "execution_count": null,
      "metadata": {
        "colab": {
          "base_uri": "https://localhost:8080/"
        },
        "id": "qz-sPXvOnHL_",
        "outputId": "4af2387a-8154-4714-c22e-6ab48a38151c"
      },
      "outputs": [
        {
          "output_type": "stream",
          "name": "stderr",
          "text": [
            "Some weights of BertForSequenceClassification were not initialized from the model checkpoint at bert-base-cased and are newly initialized: ['classifier.bias', 'classifier.weight']\n",
            "You should probably TRAIN this model on a down-stream task to be able to use it for predictions and inference.\n"
          ]
        },
        {
          "output_type": "stream",
          "name": "stdout",
          "text": [
            "Accuracy: 0.8809239346873755\n",
            "\n",
            "Classification Report:\n",
            "              precision    recall  f1-score   support\n",
            "\n",
            "           0       0.84      0.95      0.89      1312\n",
            "           1       0.94      0.80      0.87      1199\n",
            "\n",
            "    accuracy                           0.88      2511\n",
            "   macro avg       0.89      0.88      0.88      2511\n",
            "weighted avg       0.89      0.88      0.88      2511\n",
            "\n"
          ]
        }
      ],
      "source": [
        "from transformers import BertTokenizer, BertForSequenceClassification\n",
        "\n",
        "# Initialize tokenizer and model and switch to GPU\n",
        "device = torch.device(\"cuda\" if torch.cuda.is_available() else \"cpu\");\n",
        "print(\"Device is \" + str(device));\n",
        "tokenizer = BertTokenizer.from_pretrained('bert-base-cased');\n",
        "model = BertForSequenceClassification.from_pretrained('bert-base-cased', num_labels=2).to(device);\n",
        "\n",
        "# Tokenize the input data\n",
        "x_train_encodings = tokenizer(x_train.tolist(), truncation=True, padding=True, return_tensors='pt').to(device);\n",
        "x_test_encodings = tokenizer(x_test.tolist(), truncation=True, padding=True, return_tensors='pt').to(device);\n",
        "\n",
        "# Convert labels to integers\n",
        "label_map = {'real': 0, 'fake': 1};\n",
        "y_train_encoded = y_train.map(label_map);\n",
        "y_test_encoded = y_test.map(label_map);\n",
        "\n",
        "train_dataset = TensorDataset(\n",
        "    x_train_encodings['input_ids'].clone().detach(),\n",
        "    x_train_encodings['attention_mask'].clone().detach(),\n",
        "    torch.tensor(y_train_encoded.values).to(device)\n",
        ");\n",
        "\n",
        "test_dataset = TensorDataset(\n",
        "    x_test_encodings['input_ids'].clone().detach(),\n",
        "    x_test_encodings['attention_mask'].clone().detach(),\n",
        "    torch.tensor(y_test_encoded.values).to(device)\n",
        ");\n",
        "\n",
        "train_loader = DataLoader(train_dataset, batch_size=32, shuffle=True);\n",
        "test_loader = DataLoader(test_dataset, batch_size=32, shuffle=False);\n",
        "\n",
        "optimizer = AdamW(model.parameters(), lr=5e-5);\n",
        "\n",
        "# Train the model\n",
        "model.train();\n",
        "for epoch in range(3):\n",
        "    for batch in train_loader:\n",
        "        input_ids, attention_mask, labels = batch;\n",
        "        optimizer.zero_grad();\n",
        "        outputs = model(input_ids=input_ids, attention_mask=attention_mask, labels=labels);\n",
        "        loss = outputs.loss;\n",
        "        loss.backward();\n",
        "        optimizer.step();\n",
        "\n",
        "# Evaluate the model\n",
        "model.eval();\n",
        "predictions = [];\n",
        "true_labels = [];\n",
        "with torch.no_grad():\n",
        "    for batch in test_loader:\n",
        "        input_ids, attention_mask, labels = batch;\n",
        "        outputs = model(input_ids=input_ids, attention_mask=attention_mask);\n",
        "        logits = outputs.logits;\n",
        "        predicted_labels = torch.argmax(logits, dim=1);\n",
        "        predictions.extend(predicted_labels.tolist());\n",
        "        true_labels.extend(labels.tolist());\n",
        "\n",
        "# Calculate accuracy\n",
        "accuracy = accuracy_score(true_labels, predictions);\n",
        "print(\"Accuracy:\", accuracy);\n",
        "\n",
        "# Classification report\n",
        "print(\"\\nClassification Report:\");\n",
        "print(classification_report(true_labels, predictions));\n",
        "\n",
        "#Confusion Matrix\n",
        "conf_matrix = confusion_matrix(true_labels, predictions);\n",
        "print(\"Confusion Matrix:\");\n",
        "print(conf_matrix);"
      ]
    },
    {
      "cell_type": "markdown",
      "source": [
        "ALBERT-base model\n",
        "\n",
        "With text processing and removed stopwords: 0.83"
      ],
      "metadata": {
        "id": "-06C9NBlAH_W"
      }
    },
    {
      "cell_type": "code",
      "source": [
        "from transformers import AlbertTokenizer, AlbertForSequenceClassification\n",
        "\n",
        "# Initialize tokenizer and model and switch to GPU\n",
        "device = torch.device(\"cuda\" if torch.cuda.is_available() else \"cpu\");\n",
        "print(\"Device is \" + str(device));\n",
        "tokenizer = AlbertTokenizer.from_pretrained('albert-base-v2');\n",
        "albert_model = AlbertForSequenceClassification.from_pretrained('albert-base-v2', num_labels=2).to(device);\n",
        "\n",
        "# Tokenize the input data\n",
        "x_train_encodings = tokenizer(x_train.tolist(), truncation=True, padding=True, return_tensors='pt').to(device);\n",
        "x_test_encodings = tokenizer(x_test.tolist(), truncation=True, padding=True, return_tensors='pt').to(device);\n",
        "\n",
        "# Convert labels to integers\n",
        "label_map = {'real': 0, 'fake': 1};\n",
        "y_train_encoded = y_train.map(label_map);\n",
        "y_test_encoded = y_test.map(label_map);\n",
        "\n",
        "train_dataset = TensorDataset(\n",
        "    x_train_encodings['input_ids'].clone().detach(),\n",
        "    x_train_encodings['attention_mask'].clone().detach(),\n",
        "    torch.tensor(y_train_encoded.values).to(device)\n",
        ");\n",
        "\n",
        "test_dataset = TensorDataset(\n",
        "    x_test_encodings['input_ids'].clone().detach(),\n",
        "    x_test_encodings['attention_mask'].clone().detach(),\n",
        "    torch.tensor(y_test_encoded.values).to(device)\n",
        ");\n",
        "\n",
        "train_loader = DataLoader(train_dataset, batch_size=32, shuffle=True);\n",
        "test_loader = DataLoader(test_dataset, batch_size=32, shuffle=False);\n",
        "\n",
        "optimizer = AdamW(albert_model.parameters(), lr=5e-5);\n",
        "\n",
        "# Train the model\n",
        "albert_model.train();\n",
        "for epoch in range(3):\n",
        "    for batch in train_loader:\n",
        "        input_ids, attention_mask, labels = batch;\n",
        "        optimizer.zero_grad();\n",
        "        outputs = albert_model(input_ids=input_ids, attention_mask=attention_mask, labels=labels);\n",
        "        loss = outputs.loss;\n",
        "        loss.backward();\n",
        "        optimizer.step();\n",
        "\n",
        "# Evaluate the model\n",
        "albert_model.eval();\n",
        "predictions = [];\n",
        "true_labels = [];\n",
        "with torch.no_grad():\n",
        "    for batch in test_loader:\n",
        "        input_ids, attention_mask, labels = batch;\n",
        "        outputs = albert_model(input_ids=input_ids, attention_mask=attention_mask);\n",
        "        logits = outputs.logits;\n",
        "        predicted_labels = torch.argmax(logits, dim=1);\n",
        "        predictions.extend(predicted_labels.tolist());\n",
        "        true_labels.extend(labels.tolist());\n",
        "\n",
        "# Calculate accuracy\n",
        "accuracy = accuracy_score(true_labels, predictions);\n",
        "print(\"Accuracy:\", accuracy);\n",
        "\n",
        "# Classification report\n",
        "print(\"\\nClassification Report:\");\n",
        "print(classification_report(true_labels, predictions));\n",
        "\n",
        "#Confusion Matrix\n",
        "conf_matrix = confusion_matrix(true_labels, predictions);\n",
        "print(\"Confusion Matrix:\");\n",
        "print(conf_matrix);"
      ],
      "metadata": {
        "colab": {
          "base_uri": "https://localhost:8080/"
        },
        "id": "pEBrkTMxyV0A",
        "outputId": "716458f4-9357-4872-ebc2-4323d453ecc2"
      },
      "execution_count": null,
      "outputs": [
        {
          "output_type": "stream",
          "name": "stderr",
          "text": [
            "Some weights of AlbertForSequenceClassification were not initialized from the model checkpoint at albert-base-v2 and are newly initialized: ['classifier.bias', 'classifier.weight']\n",
            "You should probably TRAIN this model on a down-stream task to be able to use it for predictions and inference.\n"
          ]
        },
        {
          "output_type": "stream",
          "name": "stdout",
          "text": [
            "Accuracy: 0.8375149342891278\n",
            "\n",
            "Classification Report:\n",
            "              precision    recall  f1-score   support\n",
            "\n",
            "           0       0.91      0.77      0.83      1312\n",
            "           1       0.78      0.91      0.84      1199\n",
            "\n",
            "    accuracy                           0.84      2511\n",
            "   macro avg       0.84      0.84      0.84      2511\n",
            "weighted avg       0.85      0.84      0.84      2511\n",
            "\n"
          ]
        }
      ]
    },
    {
      "cell_type": "markdown",
      "source": [
        "RoBERTa model\n",
        "\n",
        "Took 13 min\n",
        "\n",
        "With and removing stopwords text processing: 0.90 (roberta-base)\n",
        "\n"
      ],
      "metadata": {
        "id": "nz8zCdECALlv"
      }
    },
    {
      "cell_type": "code",
      "source": [
        "from transformers import RobertaTokenizer, RobertaForSequenceClassification\n",
        "\n",
        "# Initialize tokenizer and model and switch to GPU\n",
        "device = torch.device(\"cuda\" if torch.cuda.is_available() else \"cpu\");\n",
        "print(\"Device is \" + str(device));\n",
        "tokenizer = RobertaTokenizer.from_pretrained('roberta-base');\n",
        "roberta_model = RobertaForSequenceClassification.from_pretrained('roberta-base', num_labels=2).to(device);\n",
        "\n",
        "# Tokenize the input data\n",
        "x_train_encodings = tokenizer(x_train.tolist(), truncation=True, padding=True, return_tensors='pt').to(device);\n",
        "x_test_encodings = tokenizer(x_test.tolist(), truncation=True, padding=True, return_tensors='pt').to(device);\n",
        "\n",
        "# Convert labels to integers\n",
        "label_map = {'real': 0, 'fake': 1};\n",
        "y_train_encoded = y_train.map(label_map);\n",
        "y_test_encoded = y_test.map(label_map);\n",
        "\n",
        "train_dataset = TensorDataset(\n",
        "    x_train_encodings['input_ids'].clone().detach(),\n",
        "    x_train_encodings['attention_mask'].clone().detach(),\n",
        "    torch.tensor(y_train_encoded.values).to(device)\n",
        ");\n",
        "\n",
        "test_dataset = TensorDataset(\n",
        "    x_test_encodings['input_ids'].clone().detach(),\n",
        "    x_test_encodings['attention_mask'].clone().detach(),\n",
        "    torch.tensor(y_test_encoded.values).to(device)\n",
        ");\n",
        "\n",
        "train_loader = DataLoader(train_dataset, batch_size=32, shuffle=True)\n",
        "test_loader = DataLoader(test_dataset, batch_size=32, shuffle=False)\n",
        "\n",
        "optimizer = AdamW(roberta_model.parameters(), lr=5e-5);\n",
        "\n",
        "# Train the model\n",
        "roberta_model.train();\n",
        "for epoch in range(3):\n",
        "    for batch in train_loader:\n",
        "        input_ids, attention_mask, labels = batch;\n",
        "        optimizer.zero_grad();\n",
        "        outputs = roberta_model(input_ids=input_ids, attention_mask=attention_mask, labels=labels);\n",
        "        loss = outputs.loss\n",
        "        loss.backward();\n",
        "        optimizer.step();\n",
        "\n",
        "# Evaluate the model\n",
        "roberta_model.eval();\n",
        "predictions = [];\n",
        "true_labels = [];\n",
        "with torch.no_grad():\n",
        "    for batch in test_loader:\n",
        "        input_ids, attention_mask, labels = batch;\n",
        "        outputs = roberta_model(input_ids=input_ids, attention_mask=attention_mask);\n",
        "        logits = outputs.logits;\n",
        "        predicted_labels = torch.argmax(logits, dim=1);\n",
        "        predictions.extend(predicted_labels.tolist());\n",
        "        true_labels.extend(labels.tolist());\n",
        "\n",
        "# Calculate accuracy\n",
        "accuracy = accuracy_score(true_labels, predictions);\n",
        "print(\"Accuracy:\", accuracy);\n",
        "\n",
        "# Classification report\n",
        "print(\"\\nClassification Report:\");\n",
        "print(classification_report(true_labels, predictions));\n",
        "\n",
        "#Confusion Matrix\n",
        "conf_matrix = confusion_matrix(true_labels, predictions);\n",
        "print(\"Confusion Matrix:\");\n",
        "print(conf_matrix);"
      ],
      "metadata": {
        "colab": {
          "base_uri": "https://localhost:8080/",
          "height": 646,
          "referenced_widgets": [
            "9a50ac6fb32140139846cc9a5c6b959e",
            "6790e6a8e3e44272ac937d902ba6e89a",
            "db7b62bda49d4e0b8524f78675ee48bf",
            "40bb74f7f10f492fa62a775d6d5c0978",
            "810e0c1683ee458bbf7000e3a14ec153",
            "facd60cdad12433188cc42a0f5d7c769",
            "cb43782ed8ca4525b64867f4a9c10799",
            "5f85eea31e174c079a7c53b443f8e06f",
            "d412316360d54594bfce79465a5f295e",
            "e34033dd5d2e411aacb510e56d683977",
            "4657c40975694cbab9e82c3d1b8a831c",
            "b00b38bb12304e9993242c4162ad97c6",
            "1ed7c10810f04c60af1232c522b3c786",
            "e051a03edcf648efbae3bef29e7e24d7",
            "169fd7ff12e844b2a04a86de347b023e",
            "ce89c9c8eed547e9bcde2af7d22084e3",
            "1990a8b271de45b5b8a461c8d7bf6105",
            "6880443497ae4eadace33f583a63b056",
            "b387732cea56483b873709ee4bdd5edd",
            "6dbf978970a74f71971e134f1c2a40ba",
            "443fb1c7aacf4206b47bd70263abc893",
            "0c0aafc7907141d9ba220012591a1ba2",
            "d8768e5370c743d4ac49d30e1d352761",
            "93758681c2054091b7b80f3e65129b00",
            "217d232dfac84a5696f9b140196e2b1f",
            "f892277e6aec40419efdc0264a2d9b2e",
            "059aa0064bc04d359d7af703dd72d621",
            "bfa28f522bc54d7f85ccb54280aab65a",
            "1fa31cec2cbc4d89bab8478f93fa6a28",
            "4e2aa8dd51b04776acf878ed1673130e",
            "acf791fb1456462695321c273ee84c81",
            "412db45418734aa7b1034a11e688fe2d",
            "7abf680b3a144d1187d2003f279f573a",
            "606d5bd5da644af79f843a6da47848a5",
            "b7e823473c5d4b7084ea76bc89a59feb",
            "200bd884f52d4c66afd1fed11ea35379",
            "6bcca149c75e4480b93f0d8e680ff85a",
            "a3307e55e147475a9938848d03ae6e88",
            "18937809381743ed80b6f9733fa82c42",
            "0e2a4f6cd98d40a6b9daf5737297efe8",
            "fd81ca1d02114151b3beefaf8c65174f",
            "0bc7583410de4d5ba3491080fba4d763",
            "bb8c1bd54934495d970c81f98fcd2876",
            "0512cbc298954804999c45cc34094340",
            "d331d67e5e9e43b697e5e386876ec285",
            "5018c59027f3486e85a39b9e29a5ddc6",
            "61252b65a9f548fbba42493d58009f6a",
            "42215d88299440508f597dbcbe1e6d11",
            "e46e44fefb4e4a3481b46b78a7d218c6",
            "424a359ae1da4eea830eb0ac6a082198",
            "a89f5b8d5fdc4201954e6082e869cb3e",
            "0c78039ca01e4165b59989d644c2a499",
            "9c65bbe097a64bd39c351a08452062a5",
            "71a0c9c0409e4aaeb072464b2950628d",
            "e7435e0c57d3442f88712cc5cdead3da",
            "a0fbfe0e1abe406480fb29ace570164d",
            "416da4bcf9d840269a78aa72fd7b36f8",
            "897f2da711d94b7a942521bd4860e93b",
            "a0b84169a3bc445f9447a232ccaa6d91",
            "70cd1212152a4c1ebc42f2d2b30c1ddc",
            "d10c7ed209484cc9a5fb9fdd56316a44",
            "d05f32f92d9e4646a039188398d7050b",
            "24d5811207bd4342993d3d2bc3b5c2f0",
            "13c05476824149d3a4d0e9cdcae8c418",
            "77c6159d0aa643f599e6caa3214f70cc",
            "2843e0b8809d4c1e8cdb6c1f0a82a484"
          ]
        },
        "id": "E-_TS8L_r9G3",
        "outputId": "ef08ca84-b88b-4f98-f004-58456a0cd181"
      },
      "execution_count": null,
      "outputs": [
        {
          "output_type": "stream",
          "name": "stdout",
          "text": [
            "Device is cuda\n"
          ]
        },
        {
          "output_type": "stream",
          "name": "stderr",
          "text": [
            "/usr/local/lib/python3.10/dist-packages/huggingface_hub/utils/_token.py:88: UserWarning: \n",
            "The secret `HF_TOKEN` does not exist in your Colab secrets.\n",
            "To authenticate with the Hugging Face Hub, create a token in your settings tab (https://huggingface.co/settings/tokens), set it as secret in your Google Colab and restart your session.\n",
            "You will be able to reuse this secret in all of your notebooks.\n",
            "Please note that authentication is recommended but still optional to access public models or datasets.\n",
            "  warnings.warn(\n"
          ]
        },
        {
          "output_type": "display_data",
          "data": {
            "text/plain": [
              "tokenizer_config.json:   0%|          | 0.00/25.0 [00:00<?, ?B/s]"
            ],
            "application/vnd.jupyter.widget-view+json": {
              "version_major": 2,
              "version_minor": 0,
              "model_id": "9a50ac6fb32140139846cc9a5c6b959e"
            }
          },
          "metadata": {}
        },
        {
          "output_type": "display_data",
          "data": {
            "text/plain": [
              "vocab.json:   0%|          | 0.00/899k [00:00<?, ?B/s]"
            ],
            "application/vnd.jupyter.widget-view+json": {
              "version_major": 2,
              "version_minor": 0,
              "model_id": "b00b38bb12304e9993242c4162ad97c6"
            }
          },
          "metadata": {}
        },
        {
          "output_type": "display_data",
          "data": {
            "text/plain": [
              "merges.txt:   0%|          | 0.00/456k [00:00<?, ?B/s]"
            ],
            "application/vnd.jupyter.widget-view+json": {
              "version_major": 2,
              "version_minor": 0,
              "model_id": "d8768e5370c743d4ac49d30e1d352761"
            }
          },
          "metadata": {}
        },
        {
          "output_type": "display_data",
          "data": {
            "text/plain": [
              "tokenizer.json:   0%|          | 0.00/1.36M [00:00<?, ?B/s]"
            ],
            "application/vnd.jupyter.widget-view+json": {
              "version_major": 2,
              "version_minor": 0,
              "model_id": "606d5bd5da644af79f843a6da47848a5"
            }
          },
          "metadata": {}
        },
        {
          "output_type": "display_data",
          "data": {
            "text/plain": [
              "config.json:   0%|          | 0.00/481 [00:00<?, ?B/s]"
            ],
            "application/vnd.jupyter.widget-view+json": {
              "version_major": 2,
              "version_minor": 0,
              "model_id": "d331d67e5e9e43b697e5e386876ec285"
            }
          },
          "metadata": {}
        },
        {
          "output_type": "display_data",
          "data": {
            "text/plain": [
              "model.safetensors:   0%|          | 0.00/499M [00:00<?, ?B/s]"
            ],
            "application/vnd.jupyter.widget-view+json": {
              "version_major": 2,
              "version_minor": 0,
              "model_id": "a0fbfe0e1abe406480fb29ace570164d"
            }
          },
          "metadata": {}
        },
        {
          "output_type": "stream",
          "name": "stderr",
          "text": [
            "Some weights of RobertaForSequenceClassification were not initialized from the model checkpoint at roberta-base and are newly initialized: ['classifier.dense.bias', 'classifier.dense.weight', 'classifier.out_proj.bias', 'classifier.out_proj.weight']\n",
            "You should probably TRAIN this model on a down-stream task to be able to use it for predictions and inference.\n"
          ]
        },
        {
          "output_type": "stream",
          "name": "stdout",
          "text": [
            "Accuracy: 0.9040223018717642\n",
            "\n",
            "Classification Report:\n",
            "              precision    recall  f1-score   support\n",
            "\n",
            "           0       0.88      0.94      0.91      1312\n",
            "           1       0.93      0.86      0.90      1199\n",
            "\n",
            "    accuracy                           0.90      2511\n",
            "   macro avg       0.91      0.90      0.90      2511\n",
            "weighted avg       0.91      0.90      0.90      2511\n",
            "\n",
            "Confusion Matrix:\n",
            "[[1236   76]\n",
            " [ 165 1034]]\n"
          ]
        }
      ]
    },
    {
      "cell_type": "markdown",
      "source": [
        "Save trained Roberta model"
      ],
      "metadata": {
        "id": "YFHEJzf4kTG9"
      }
    },
    {
      "cell_type": "code",
      "source": [
        "roberta_model.save_pretrained(\"drive/MyDrive/models/robertaArticles/\");\n",
        "tokenizer.save_pretrained(\"drive/MyDrive/models/robertaArticles/\");"
      ],
      "metadata": {
        "id": "77gWx3TijtC6"
      },
      "execution_count": null,
      "outputs": []
    },
    {
      "cell_type": "markdown",
      "source": [
        "Load trained Roberta model"
      ],
      "metadata": {
        "id": "8BEXpwoPkXKj"
      }
    },
    {
      "cell_type": "code",
      "source": [
        "from transformers import RobertaTokenizer, RobertaForSequenceClassification\n",
        "\n",
        "device = torch.device(\"cuda\" if torch.cuda.is_available() else \"cpu\");\n",
        "loaded_model = RobertaForSequenceClassification.from_pretrained(\"drive/MyDrive/models/robertaArticles/\").to(device);\n",
        "loaded_tokenizer = RobertaTokenizer.from_pretrained(\"drive/MyDrive/models/robertaArticles/\");"
      ],
      "metadata": {
        "id": "MOp6UOMckGmO"
      },
      "execution_count": null,
      "outputs": []
    },
    {
      "cell_type": "markdown",
      "source": [
        "Test loaded model performance"
      ],
      "metadata": {
        "id": "W1sdrb7kvCk6"
      }
    },
    {
      "cell_type": "code",
      "source": [
        "device = torch.device(\"cuda\" if torch.cuda.is_available() else \"cpu\");\n",
        "print(\"Device is \" + str(device));\n",
        "\n",
        "# Tokenize the input data\n",
        "x_test_encodings = loaded_tokenizer(x_test.tolist(), truncation=True, padding=True, return_tensors='pt').to(device);\n",
        "\n",
        "# Convert labels to integers\n",
        "label_map = {'real': 0, 'fake': 1};\n",
        "y_test_encoded = y_test.map(label_map);\n",
        "\n",
        "test_dataset = TensorDataset(\n",
        "    x_test_encodings['input_ids'].clone().detach(),\n",
        "    x_test_encodings['attention_mask'].clone().detach(),\n",
        "    torch.tensor(y_test_encoded.values).to(device)\n",
        ");\n",
        "\n",
        "test_loader = DataLoader(test_dataset, batch_size=32, shuffle=False);\n",
        "\n",
        "# Evaluate the model\n",
        "loaded_model.eval();\n",
        "predictions = [];\n",
        "true_labels = [];\n",
        "with torch.no_grad():\n",
        "    for batch in test_loader:\n",
        "        input_ids, attention_mask, labels = batch;\n",
        "        outputs = loaded_model(input_ids=input_ids, attention_mask=attention_mask);\n",
        "        logits = outputs.logits;\n",
        "        predicted_labels = torch.argmax(logits, dim=1);\n",
        "        predictions.extend(predicted_labels.tolist());\n",
        "        true_labels.extend(labels.tolist());\n",
        "\n",
        "# Calculate accuracy\n",
        "accuracy = accuracy_score(true_labels, predictions);\n",
        "print(\"Accuracy:\", accuracy);\n",
        "\n",
        "# Classification report\n",
        "print(\"\\nClassification Report:\");\n",
        "print(classification_report(true_labels, predictions));\n",
        "\n",
        "conf_matrix = confusion_matrix(true_labels, predictions)\n",
        "print(\"Confusion Matrix:\")\n",
        "print(conf_matrix)"
      ],
      "metadata": {
        "colab": {
          "base_uri": "https://localhost:8080/"
        },
        "id": "nTmixYumpn7I",
        "outputId": "e7f0ea40-168a-4636-b841-ea9b8d526a8b"
      },
      "execution_count": null,
      "outputs": [
        {
          "output_type": "stream",
          "name": "stdout",
          "text": [
            "Device is cuda\n",
            "Accuracy: 0.9040223018717642\n",
            "\n",
            "Classification Report:\n",
            "              precision    recall  f1-score   support\n",
            "\n",
            "           0       0.88      0.94      0.91      1312\n",
            "           1       0.93      0.86      0.90      1199\n",
            "\n",
            "    accuracy                           0.90      2511\n",
            "   macro avg       0.91      0.90      0.90      2511\n",
            "weighted avg       0.91      0.90      0.90      2511\n",
            "\n",
            "Confusion Matrix:\n",
            "[[1236   76]\n",
            " [ 165 1034]]\n"
          ]
        }
      ]
    },
    {
      "cell_type": "markdown",
      "metadata": {
        "id": "g7Dh3-NZEEcO"
      },
      "source": [
        "# Graphs\n",
        "\n",
        "Some graphs to better visualise data"
      ]
    },
    {
      "cell_type": "code",
      "source": [
        "fakeOrRealData = pd.read_csv('drive/MyDrive/datasets/fake_or_real_news.csv');\n",
        "fakeOrRealData['label'] = fakeOrRealData['label'].str.lower();\n",
        "fakeOrRealData = fakeOrRealData.dropna();\n",
        "fakeOrRealData = fakeOrRealData.head(2000);\n",
        "\n",
        "\n",
        "newsArticles = pd.read_csv('drive/MyDrive/datasets/news_articles.csv');\n",
        "newsArticles['label'] = newsArticles['label'].str.lower();\n",
        "newsArticles = newsArticles.dropna();\n",
        "newsArticles = newsArticles.head(2000);\n",
        "\n",
        "covidNews = pd.read_csv('drive/MyDrive/datasets/COVID-19 fake news.csv');\n",
        "covidNews = covidNews[10:] #remove first 10 articles to use for manual testing\n",
        "covidNews['label'] = covidNews['label'].replace({0: 'fake', 1: 'real'});\n",
        "covidNews = covidNews.dropna();\n",
        "covidNews = covidNews.head(3000);\n",
        "\n",
        "covidNews2 = pd.read_csv('drive/MyDrive/datasets/corona_fake.csv');\n",
        "covidNews2['label'] = covidNews2['label'].replace({'Fake': 'fake', 'TRUE': 'real'});\n",
        "covidNews2 = covidNews2.dropna();\n",
        "covidNews2 = covidNews2.head(1000);\n",
        "\n",
        "labeled_data = pd.concat([fakeOrRealData[['title','text', 'label']], newsArticles[['title','text', 'label']], covidNews[['title','text', 'label']], covidNews2[['title','text', 'label']]]);\n",
        "labeled_data = labeled_data.dropna();\n",
        "print(labeled_data.info());\n",
        "\n",
        "fake_data = labeled_data[labeled_data['label'] == 'fake']"
      ],
      "metadata": {
        "colab": {
          "base_uri": "https://localhost:8080/"
        },
        "id": "FBAZ0vmACk_X",
        "outputId": "bf30af58-da97-435e-8726-12b66372b0cd"
      },
      "execution_count": null,
      "outputs": [
        {
          "output_type": "stream",
          "name": "stdout",
          "text": [
            "<class 'pandas.core.frame.DataFrame'>\n",
            "Index: 8000 entries, 0 to 1104\n",
            "Data columns (total 3 columns):\n",
            " #   Column  Non-Null Count  Dtype \n",
            "---  ------  --------------  ----- \n",
            " 0   title   8000 non-null   object\n",
            " 1   text    8000 non-null   object\n",
            " 2   label   8000 non-null   object\n",
            "dtypes: object(3)\n",
            "memory usage: 250.0+ KB\n",
            "None\n"
          ]
        }
      ]
    },
    {
      "cell_type": "code",
      "source": [
        "#Remove stopwords for most frequently used words\n",
        "from nltk.corpus import stopwords\n",
        "from nltk.tokenize import word_tokenize\n",
        "\n",
        "nltk.download('stopwords');\n",
        "nltk.download('punkt');\n",
        "\n",
        "stop_words2 = set(stopwords.words('english'));\n",
        "\n",
        "def remove_stopwords(text):\n",
        "   tokens = word_tokenize(text);\n",
        "   filtered_tokens = [word for word in tokens if word.lower() not in stop_words2];\n",
        "   filtered_text = ' '.join(filtered_tokens);\n",
        "   return filtered_text;\n",
        "\n",
        "# Remove stopwords from the 'text' column\n",
        "fake_data_no_stopwords = fake_data;\n",
        "fake_data_no_stopwords['text'] = fake_data_no_stopwords['text'].apply(remove_stopwords);"
      ],
      "metadata": {
        "colab": {
          "base_uri": "https://localhost:8080/"
        },
        "id": "K1y6DzCQHplP",
        "outputId": "dcc7ecdb-c715-46e6-d6a9-d90a113b112e"
      },
      "execution_count": null,
      "outputs": [
        {
          "output_type": "stream",
          "name": "stderr",
          "text": [
            "[nltk_data] Downloading package stopwords to /root/nltk_data...\n",
            "[nltk_data]   Unzipping corpora/stopwords.zip.\n",
            "[nltk_data] Downloading package punkt to /root/nltk_data...\n",
            "[nltk_data]   Unzipping tokenizers/punkt.zip.\n",
            "<ipython-input-4-0880ebc000d7>:18: SettingWithCopyWarning: \n",
            "A value is trying to be set on a copy of a slice from a DataFrame.\n",
            "Try using .loc[row_indexer,col_indexer] = value instead\n",
            "\n",
            "See the caveats in the documentation: https://pandas.pydata.org/pandas-docs/stable/user_guide/indexing.html#returning-a-view-versus-a-copy\n",
            "  fake_data_no_stopwords['text'] = fake_data_no_stopwords['text'].apply(remove_stopwords);\n"
          ]
        }
      ]
    },
    {
      "cell_type": "markdown",
      "source": [
        "Functions used to get the frequency of words and group of words"
      ],
      "metadata": {
        "id": "GXXcJirfCqLy"
      }
    },
    {
      "cell_type": "code",
      "execution_count": null,
      "metadata": {
        "id": "Wvx2o38i2oev"
      },
      "outputs": [],
      "source": [
        "def get_top_n_words(corpus, n=None):\n",
        "    vec = CountVectorizer().fit(corpus);\n",
        "    bag_of_words = vec.transform(corpus);\n",
        "    sum_words = bag_of_words.sum(axis=0);\n",
        "    words_freq = [(word, sum_words[0, idx]) for word, idx in vec.vocabulary_.items()];\n",
        "    words_freq =sorted(words_freq, key = lambda x: x[1], reverse=True);\n",
        "    return words_freq[:n];\n",
        "\n",
        "def get_top_n_bigram(corpus, n=None):\n",
        "    vec = CountVectorizer(ngram_range=(2, 2)).fit(corpus);\n",
        "    bag_of_words = vec.transform(corpus);\n",
        "    sum_words = bag_of_words.sum(axis=0);\n",
        "    words_freq = [(word, sum_words[0, idx]) for word, idx in vec.vocabulary_.items()];\n",
        "    words_freq =sorted(words_freq, key = lambda x: x[1], reverse=True);\n",
        "    return words_freq[:n];\n",
        "\n",
        "\n",
        "def get_top_n_trigram(corpus, n=None):\n",
        "    vec = CountVectorizer(ngram_range=(3, 3)).fit(corpus);\n",
        "    bag_of_words = vec.transform(corpus);\n",
        "    sum_words = bag_of_words.sum(axis=0);\n",
        "    words_freq = [(word, sum_words[0, idx]) for word, idx in vec.vocabulary_.items()];\n",
        "    words_freq =sorted(words_freq, key = lambda x: x[1], reverse=True);\n",
        "    return words_freq[:n];\n",
        "\n"
      ]
    },
    {
      "cell_type": "markdown",
      "metadata": {
        "id": "aRVwBn6xEvtx"
      },
      "source": [
        "Get the most frequently used words and plot the result\n"
      ]
    },
    {
      "cell_type": "code",
      "execution_count": null,
      "metadata": {
        "colab": {
          "base_uri": "https://localhost:8080/",
          "height": 507
        },
        "id": "MxCisvG97DRG",
        "outputId": "b72556c4-7b35-436a-e966-60fa77ff30c6"
      },
      "outputs": [
        {
          "output_type": "display_data",
          "data": {
            "text/plain": [
              "<Figure size 1000x500 with 1 Axes>"
            ],
            "image/png": "[encoded data removed]"
          },
          "metadata": {}
        }
      ],
      "source": [
        "common_words = get_top_n_words(fake_data_no_stopwords['text'], 20);\n",
        "#also get equal numer of articles for each subject (us politics, covid) (1000 articles only)\n",
        "\n",
        "df_common_words = DataFrame(common_words,columns=['word','count']);\n",
        "df_common_words = df_common_words.sort_values(by='count', ascending=False);\n",
        "\n",
        "# Plot the top 20 words\n",
        "n = 20;\n",
        "plt.figure(figsize=(10, 5));\n",
        "bars = plt.bar(df_common_words['word'][:n], df_common_words['count'][:n], color='blue');\n",
        "\n",
        "# Add value labels on top of each bar\n",
        "for bar in bars:\n",
        "    yval = bar.get_height()\n",
        "    plt.text(bar.get_x() + bar.get_width()/2, yval, round(yval, 2), va='bottom', ha='center')\n",
        "\n",
        "plt.xlabel('Word');\n",
        "plt.ylabel('Frequency');\n",
        "plt.title('Top {} words and their frequencies'.format(n));\n",
        "plt.xticks(rotation=-45);  # Rotate x-axis labels for better readability\n",
        "plt.tight_layout();\n",
        "plt.show();"
      ]
    },
    {
      "cell_type": "markdown",
      "metadata": {
        "id": "GvplVdRSE1MW"
      },
      "source": [
        "Get the most frequently used groups of 2 words and plot the result"
      ]
    },
    {
      "cell_type": "code",
      "execution_count": null,
      "metadata": {
        "colab": {
          "base_uri": "https://localhost:8080/",
          "height": 607
        },
        "id": "0P6lVYBlE1cG",
        "outputId": "9dae6eea-6e96-4454-c618-b49b7a3f73a4"
      },
      "outputs": [
        {
          "output_type": "display_data",
          "data": {
            "text/plain": [
              "<Figure size 1500x600 with 1 Axes>"
            ],
            "image/png": "[encoded data removed]"
          },
          "metadata": {}
        }
      ],
      "source": [
        "common_bigrams = get_top_n_bigram(fake_data['text'], 20);\n",
        "df_common_bigrams = DataFrame(common_bigrams, columns = ['words' ,'count']);\n",
        "\n",
        "# Plot the top 20 bigrams\n",
        "n = 20;\n",
        "plt.figure(figsize=(15, 6));\n",
        "bars = plt.bar(df_common_bigrams['words'][:n], df_common_bigrams['count'][:n], color='blue');\n",
        "\n",
        "# Add value labels on top of each bar\n",
        "for bar in bars:\n",
        "    yval = bar.get_height()\n",
        "    plt.text(bar.get_x() + bar.get_width()/2, yval, round(yval, 2), va='bottom', ha='center')\n",
        "\n",
        "plt.xlabel('Words');\n",
        "plt.ylabel('Frequency');\n",
        "plt.title('Top {} bigrams and their frequencies'.format(n));\n",
        "plt.xticks(rotation=-45);  # Rotate x-axis labels for better readability\n",
        "plt.tight_layout();\n",
        "plt.show();"
      ]
    },
    {
      "cell_type": "markdown",
      "metadata": {
        "id": "qm6aT5hGFytF"
      },
      "source": [
        "Get the most frequently used groups of 3 words and plot the result\n"
      ]
    },
    {
      "cell_type": "code",
      "execution_count": null,
      "metadata": {
        "colab": {
          "base_uri": "https://localhost:8080/",
          "height": 807
        },
        "id": "_2BHJ7ttFyHc",
        "outputId": "add15d3d-bd9c-496b-a2f2-38d995d661d7"
      },
      "outputs": [
        {
          "output_type": "display_data",
          "data": {
            "text/plain": [
              "<Figure size 1500x800 with 1 Axes>"
            ],
            "image/png": "[encoded data removed]"
          },
          "metadata": {}
        }
      ],
      "source": [
        "common_trigrams = get_top_n_trigram(fake_data['text'], 20);\n",
        "df_common_trigrams = DataFrame(common_trigrams, columns = ['words' ,'count']);\n",
        "\n",
        "# Plot the top 20 trigrams\n",
        "n = 20;\n",
        "plt.figure(figsize=(15, 8));\n",
        "bars = plt.bar(df_common_trigrams['words'][:n], df_common_trigrams['count'][:n], color='blue');\n",
        "\n",
        "# Add value labels on top of each bar\n",
        "for bar in bars:\n",
        "    yval = bar.get_height()\n",
        "    plt.text(bar.get_x() + bar.get_width()/2, yval, round(yval, 2), va='bottom', ha='center')\n",
        "\n",
        "plt.xlabel('Words');\n",
        "plt.ylabel('Frequency');\n",
        "plt.title('Top {} trigrams and their frequencies'.format(n));\n",
        "plt.xticks(rotation=-45)  # Rotate x-axis labels for better readability\n",
        "plt.tight_layout();\n",
        "plt.show();"
      ]
    }
  ],
  "metadata": {
    "colab": {
      "provenance": [],
      "machine_shape": "hm"
    },
    "kernelspec": {
      "display_name": "Python 3",
      "name": "python3"
    },
    "language_info": {
      "name": "python"
    },
    "widgets": {
      "application/vnd.jupyter.widget-state+json": {
        "9a50ac6fb32140139846cc9a5c6b959e": {
          "model_module": "@jupyter-widgets/controls",
          "model_name": "HBoxModel",
          "model_module_version": "1.5.0",
          "state": {
            "_dom_classes": [],
            "_model_module": "@jupyter-widgets/controls",
            "_model_module_version": "1.5.0",
            "_model_name": "HBoxModel",
            "_view_count": null,
            "_view_module": "@jupyter-widgets/controls",
            "_view_module_version": "1.5.0",
            "_view_name": "HBoxView",
            "box_style": "",
            "children": [
              "IPY_MODEL_6790e6a8e3e44272ac937d902ba6e89a",
              "IPY_MODEL_db7b62bda49d4e0b8524f78675ee48bf",
              "IPY_MODEL_40bb74f7f10f492fa62a775d6d5c0978"
            ],
            "layout": "IPY_MODEL_810e0c1683ee458bbf7000e3a14ec153"
          }
        },
        "6790e6a8e3e44272ac937d902ba6e89a": {
          "model_module": "@jupyter-widgets/controls",
          "model_name": "HTMLModel",
          "model_module_version": "1.5.0",
          "state": {
            "_dom_classes": [],
            "_model_module": "@jupyter-widgets/controls",
            "_model_module_version": "1.5.0",
            "_model_name": "HTMLModel",
            "_view_count": null,
            "_view_module": "@jupyter-widgets/controls",
            "_view_module_version": "1.5.0",
            "_view_name": "HTMLView",
            "description": "",
            "description_tooltip": null,
            "layout": "IPY_MODEL_facd60cdad12433188cc42a0f5d7c769",
            "placeholder": "​",
            "style": "IPY_MODEL_cb43782ed8ca4525b64867f4a9c10799",
            "value": "tokenizer_config.json: 100%"
          }
        },
        "db7b62bda49d4e0b8524f78675ee48bf": {
          "model_module": "@jupyter-widgets/controls",
          "model_name": "FloatProgressModel",
          "model_module_version": "1.5.0",
          "state": {
            "_dom_classes": [],
            "_model_module": "@jupyter-widgets/controls",
            "_model_module_version": "1.5.0",
            "_model_name": "FloatProgressModel",
            "_view_count": null,
            "_view_module": "@jupyter-widgets/controls",
            "_view_module_version": "1.5.0",
            "_view_name": "ProgressView",
            "bar_style": "success",
            "description": "",
            "description_tooltip": null,
            "layout": "IPY_MODEL_5f85eea31e174c079a7c53b443f8e06f",
            "max": 25,
            "min": 0,
            "orientation": "horizontal",
            "style": "IPY_MODEL_d412316360d54594bfce79465a5f295e",
            "value": 25
          }
        },
        "40bb74f7f10f492fa62a775d6d5c0978": {
          "model_module": "@jupyter-widgets/controls",
          "model_name": "HTMLModel",
          "model_module_version": "1.5.0",
          "state": {
            "_dom_classes": [],
            "_model_module": "@jupyter-widgets/controls",
            "_model_module_version": "1.5.0",
            "_model_name": "HTMLModel",
            "_view_count": null,
            "_view_module": "@jupyter-widgets/controls",
            "_view_module_version": "1.5.0",
            "_view_name": "HTMLView",
            "description": "",
            "description_tooltip": null,
            "layout": "IPY_MODEL_e34033dd5d2e411aacb510e56d683977",
            "placeholder": "​",
            "style": "IPY_MODEL_4657c40975694cbab9e82c3d1b8a831c",
            "value": " 25.0/25.0 [00:00&lt;00:00, 2.02kB/s]"
          }
        },
        "810e0c1683ee458bbf7000e3a14ec153": {
          "model_module": "@jupyter-widgets/base",
          "model_name": "LayoutModel",
          "model_module_version": "1.2.0",
          "state": {
            "_model_module": "@jupyter-widgets/base",
            "_model_module_version": "1.2.0",
            "_model_name": "LayoutModel",
            "_view_count": null,
            "_view_module": "@jupyter-widgets/base",
            "_view_module_version": "1.2.0",
            "_view_name": "LayoutView",
            "align_content": null,
            "align_items": null,
            "align_self": null,
            "border": null,
            "bottom": null,
            "display": null,
            "flex": null,
            "flex_flow": null,
            "grid_area": null,
            "grid_auto_columns": null,
            "grid_auto_flow": null,
            "grid_auto_rows": null,
            "grid_column": null,
            "grid_gap": null,
            "grid_row": null,
            "grid_template_areas": null,
            "grid_template_columns": null,
            "grid_template_rows": null,
            "height": null,
            "justify_content": null,
            "justify_items": null,
            "left": null,
            "margin": null,
            "max_height": null,
            "max_width": null,
            "min_height": null,
            "min_width": null,
            "object_fit": null,
            "object_position": null,
            "order": null,
            "overflow": null,
            "overflow_x": null,
            "overflow_y": null,
            "padding": null,
            "right": null,
            "top": null,
            "visibility": null,
            "width": null
          }
        },
        "facd60cdad12433188cc42a0f5d7c769": {
          "model_module": "@jupyter-widgets/base",
          "model_name": "LayoutModel",
          "model_module_version": "1.2.0",
          "state": {
            "_model_module": "@jupyter-widgets/base",
            "_model_module_version": "1.2.0",
            "_model_name": "LayoutModel",
            "_view_count": null,
            "_view_module": "@jupyter-widgets/base",
            "_view_module_version": "1.2.0",
            "_view_name": "LayoutView",
            "align_content": null,
            "align_items": null,
            "align_self": null,
            "border": null,
            "bottom": null,
            "display": null,
            "flex": null,
            "flex_flow": null,
            "grid_area": null,
            "grid_auto_columns": null,
            "grid_auto_flow": null,
            "grid_auto_rows": null,
            "grid_column": null,
            "grid_gap": null,
            "grid_row": null,
            "grid_template_areas": null,
            "grid_template_columns": null,
            "grid_template_rows": null,
            "height": null,
            "justify_content": null,
            "justify_items": null,
            "left": null,
            "margin": null,
            "max_height": null,
            "max_width": null,
            "min_height": null,
            "min_width": null,
            "object_fit": null,
            "object_position": null,
            "order": null,
            "overflow": null,
            "overflow_x": null,
            "overflow_y": null,
            "padding": null,
            "right": null,
            "top": null,
            "visibility": null,
            "width": null
          }
        },
        "cb43782ed8ca4525b64867f4a9c10799": {
          "model_module": "@jupyter-widgets/controls",
          "model_name": "DescriptionStyleModel",
          "model_module_version": "1.5.0",
          "state": {
            "_model_module": "@jupyter-widgets/controls",
            "_model_module_version": "1.5.0",
            "_model_name": "DescriptionStyleModel",
            "_view_count": null,
            "_view_module": "@jupyter-widgets/base",
            "_view_module_version": "1.2.0",
            "_view_name": "StyleView",
            "description_width": ""
          }
        },
        "5f85eea31e174c079a7c53b443f8e06f": {
          "model_module": "@jupyter-widgets/base",
          "model_name": "LayoutModel",
          "model_module_version": "1.2.0",
          "state": {
            "_model_module": "@jupyter-widgets/base",
            "_model_module_version": "1.2.0",
            "_model_name": "LayoutModel",
            "_view_count": null,
            "_view_module": "@jupyter-widgets/base",
            "_view_module_version": "1.2.0",
            "_view_name": "LayoutView",
            "align_content": null,
            "align_items": null,
            "align_self": null,
            "border": null,
            "bottom": null,
            "display": null,
            "flex": null,
            "flex_flow": null,
            "grid_area": null,
            "grid_auto_columns": null,
            "grid_auto_flow": null,
            "grid_auto_rows": null,
            "grid_column": null,
            "grid_gap": null,
            "grid_row": null,
            "grid_template_areas": null,
            "grid_template_columns": null,
            "grid_template_rows": null,
            "height": null,
            "justify_content": null,
            "justify_items": null,
            "left": null,
            "margin": null,
            "max_height": null,
            "max_width": null,
            "min_height": null,
            "min_width": null,
            "object_fit": null,
            "object_position": null,
            "order": null,
            "overflow": null,
            "overflow_x": null,
            "overflow_y": null,
            "padding": null,
            "right": null,
            "top": null,
            "visibility": null,
            "width": null
          }
        },
        "d412316360d54594bfce79465a5f295e": {
          "model_module": "@jupyter-widgets/controls",
          "model_name": "ProgressStyleModel",
          "model_module_version": "1.5.0",
          "state": {
            "_model_module": "@jupyter-widgets/controls",
            "_model_module_version": "1.5.0",
            "_model_name": "ProgressStyleModel",
            "_view_count": null,
            "_view_module": "@jupyter-widgets/base",
            "_view_module_version": "1.2.0",
            "_view_name": "StyleView",
            "bar_color": null,
            "description_width": ""
          }
        },
        "e34033dd5d2e411aacb510e56d683977": {
          "model_module": "@jupyter-widgets/base",
          "model_name": "LayoutModel",
          "model_module_version": "1.2.0",
          "state": {
            "_model_module": "@jupyter-widgets/base",
            "_model_module_version": "1.2.0",
            "_model_name": "LayoutModel",
            "_view_count": null,
            "_view_module": "@jupyter-widgets/base",
            "_view_module_version": "1.2.0",
            "_view_name": "LayoutView",
            "align_content": null,
            "align_items": null,
            "align_self": null,
            "border": null,
            "bottom": null,
            "display": null,
            "flex": null,
            "flex_flow": null,
            "grid_area": null,
            "grid_auto_columns": null,
            "grid_auto_flow": null,
            "grid_auto_rows": null,
            "grid_column": null,
            "grid_gap": null,
            "grid_row": null,
            "grid_template_areas": null,
            "grid_template_columns": null,
            "grid_template_rows": null,
            "height": null,
            "justify_content": null,
            "justify_items": null,
            "left": null,
            "margin": null,
            "max_height": null,
            "max_width": null,
            "min_height": null,
            "min_width": null,
            "object_fit": null,
            "object_position": null,
            "order": null,
            "overflow": null,
            "overflow_x": null,
            "overflow_y": null,
            "padding": null,
            "right": null,
            "top": null,
            "visibility": null,
            "width": null
          }
        },
        "4657c40975694cbab9e82c3d1b8a831c": {
          "model_module": "@jupyter-widgets/controls",
          "model_name": "DescriptionStyleModel",
          "model_module_version": "1.5.0",
          "state": {
            "_model_module": "@jupyter-widgets/controls",
            "_model_module_version": "1.5.0",
            "_model_name": "DescriptionStyleModel",
            "_view_count": null,
            "_view_module": "@jupyter-widgets/base",
            "_view_module_version": "1.2.0",
            "_view_name": "StyleView",
            "description_width": ""
          }
        },
        "b00b38bb12304e9993242c4162ad97c6": {
          "model_module": "@jupyter-widgets/controls",
          "model_name": "HBoxModel",
          "model_module_version": "1.5.0",
          "state": {
            "_dom_classes": [],
            "_model_module": "@jupyter-widgets/controls",
            "_model_module_version": "1.5.0",
            "_model_name": "HBoxModel",
            "_view_count": null,
            "_view_module": "@jupyter-widgets/controls",
            "_view_module_version": "1.5.0",
            "_view_name": "HBoxView",
            "box_style": "",
            "children": [
              "IPY_MODEL_1ed7c10810f04c60af1232c522b3c786",
              "IPY_MODEL_e051a03edcf648efbae3bef29e7e24d7",
              "IPY_MODEL_169fd7ff12e844b2a04a86de347b023e"
            ],
            "layout": "IPY_MODEL_ce89c9c8eed547e9bcde2af7d22084e3"
          }
        },
        "1ed7c10810f04c60af1232c522b3c786": {
          "model_module": "@jupyter-widgets/controls",
          "model_name": "HTMLModel",
          "model_module_version": "1.5.0",
          "state": {
            "_dom_classes": [],
            "_model_module": "@jupyter-widgets/controls",
            "_model_module_version": "1.5.0",
            "_model_name": "HTMLModel",
            "_view_count": null,
            "_view_module": "@jupyter-widgets/controls",
            "_view_module_version": "1.5.0",
            "_view_name": "HTMLView",
            "description": "",
            "description_tooltip": null,
            "layout": "IPY_MODEL_1990a8b271de45b5b8a461c8d7bf6105",
            "placeholder": "​",
            "style": "IPY_MODEL_6880443497ae4eadace33f583a63b056",
            "value": "vocab.json: 100%"
          }
        },
        "e051a03edcf648efbae3bef29e7e24d7": {
          "model_module": "@jupyter-widgets/controls",
          "model_name": "FloatProgressModel",
          "model_module_version": "1.5.0",
          "state": {
            "_dom_classes": [],
            "_model_module": "@jupyter-widgets/controls",
            "_model_module_version": "1.5.0",
            "_model_name": "FloatProgressModel",
            "_view_count": null,
            "_view_module": "@jupyter-widgets/controls",
            "_view_module_version": "1.5.0",
            "_view_name": "ProgressView",
            "bar_style": "success",
            "description": "",
            "description_tooltip": null,
            "layout": "IPY_MODEL_b387732cea56483b873709ee4bdd5edd",
            "max": 898823,
            "min": 0,
            "orientation": "horizontal",
            "style": "IPY_MODEL_6dbf978970a74f71971e134f1c2a40ba",
            "value": 898823
          }
        },
        "169fd7ff12e844b2a04a86de347b023e": {
          "model_module": "@jupyter-widgets/controls",
          "model_name": "HTMLModel",
          "model_module_version": "1.5.0",
          "state": {
            "_dom_classes": [],
            "_model_module": "@jupyter-widgets/controls",
            "_model_module_version": "1.5.0",
            "_model_name": "HTMLModel",
            "_view_count": null,
            "_view_module": "@jupyter-widgets/controls",
            "_view_module_version": "1.5.0",
            "_view_name": "HTMLView",
            "description": "",
            "description_tooltip": null,
            "layout": "IPY_MODEL_443fb1c7aacf4206b47bd70263abc893",
            "placeholder": "​",
            "style": "IPY_MODEL_0c0aafc7907141d9ba220012591a1ba2",
            "value": " 899k/899k [00:00&lt;00:00, 36.8MB/s]"
          }
        },
        "ce89c9c8eed547e9bcde2af7d22084e3": {
          "model_module": "@jupyter-widgets/base",
          "model_name": "LayoutModel",
          "model_module_version": "1.2.0",
          "state": {
            "_model_module": "@jupyter-widgets/base",
            "_model_module_version": "1.2.0",
            "_model_name": "LayoutModel",
            "_view_count": null,
            "_view_module": "@jupyter-widgets/base",
            "_view_module_version": "1.2.0",
            "_view_name": "LayoutView",
            "align_content": null,
            "align_items": null,
            "align_self": null,
            "border": null,
            "bottom": null,
            "display": null,
            "flex": null,
            "flex_flow": null,
            "grid_area": null,
            "grid_auto_columns": null,
            "grid_auto_flow": null,
            "grid_auto_rows": null,
            "grid_column": null,
            "grid_gap": null,
            "grid_row": null,
            "grid_template_areas": null,
            "grid_template_columns": null,
            "grid_template_rows": null,
            "height": null,
            "justify_content": null,
            "justify_items": null,
            "left": null,
            "margin": null,
            "max_height": null,
            "max_width": null,
            "min_height": null,
            "min_width": null,
            "object_fit": null,
            "object_position": null,
            "order": null,
            "overflow": null,
            "overflow_x": null,
            "overflow_y": null,
            "padding": null,
            "right": null,
            "top": null,
            "visibility": null,
            "width": null
          }
        },
        "1990a8b271de45b5b8a461c8d7bf6105": {
          "model_module": "@jupyter-widgets/base",
          "model_name": "LayoutModel",
          "model_module_version": "1.2.0",
          "state": {
            "_model_module": "@jupyter-widgets/base",
            "_model_module_version": "1.2.0",
            "_model_name": "LayoutModel",
            "_view_count": null,
            "_view_module": "@jupyter-widgets/base",
            "_view_module_version": "1.2.0",
            "_view_name": "LayoutView",
            "align_content": null,
            "align_items": null,
            "align_self": null,
            "border": null,
            "bottom": null,
            "display": null,
            "flex": null,
            "flex_flow": null,
            "grid_area": null,
            "grid_auto_columns": null,
            "grid_auto_flow": null,
            "grid_auto_rows": null,
            "grid_column": null,
            "grid_gap": null,
            "grid_row": null,
            "grid_template_areas": null,
            "grid_template_columns": null,
            "grid_template_rows": null,
            "height": null,
            "justify_content": null,
            "justify_items": null,
            "left": null,
            "margin": null,
            "max_height": null,
            "max_width": null,
            "min_height": null,
            "min_width": null,
            "object_fit": null,
            "object_position": null,
            "order": null,
            "overflow": null,
            "overflow_x": null,
            "overflow_y": null,
            "padding": null,
            "right": null,
            "top": null,
            "visibility": null,
            "width": null
          }
        },
        "6880443497ae4eadace33f583a63b056": {
          "model_module": "@jupyter-widgets/controls",
          "model_name": "DescriptionStyleModel",
          "model_module_version": "1.5.0",
          "state": {
            "_model_module": "@jupyter-widgets/controls",
            "_model_module_version": "1.5.0",
            "_model_name": "DescriptionStyleModel",
            "_view_count": null,
            "_view_module": "@jupyter-widgets/base",
            "_view_module_version": "1.2.0",
            "_view_name": "StyleView",
            "description_width": ""
          }
        },
        "b387732cea56483b873709ee4bdd5edd": {
          "model_module": "@jupyter-widgets/base",
          "model_name": "LayoutModel",
          "model_module_version": "1.2.0",
          "state": {
            "_model_module": "@jupyter-widgets/base",
            "_model_module_version": "1.2.0",
            "_model_name": "LayoutModel",
            "_view_count": null,
            "_view_module": "@jupyter-widgets/base",
            "_view_module_version": "1.2.0",
            "_view_name": "LayoutView",
            "align_content": null,
            "align_items": null,
            "align_self": null,
            "border": null,
            "bottom": null,
            "display": null,
            "flex": null,
            "flex_flow": null,
            "grid_area": null,
            "grid_auto_columns": null,
            "grid_auto_flow": null,
            "grid_auto_rows": null,
            "grid_column": null,
            "grid_gap": null,
            "grid_row": null,
            "grid_template_areas": null,
            "grid_template_columns": null,
            "grid_template_rows": null,
            "height": null,
            "justify_content": null,
            "justify_items": null,
            "left": null,
            "margin": null,
            "max_height": null,
            "max_width": null,
            "min_height": null,
            "min_width": null,
            "object_fit": null,
            "object_position": null,
            "order": null,
            "overflow": null,
            "overflow_x": null,
            "overflow_y": null,
            "padding": null,
            "right": null,
            "top": null,
            "visibility": null,
            "width": null
          }
        },
        "6dbf978970a74f71971e134f1c2a40ba": {
          "model_module": "@jupyter-widgets/controls",
          "model_name": "ProgressStyleModel",
          "model_module_version": "1.5.0",
          "state": {
            "_model_module": "@jupyter-widgets/controls",
            "_model_module_version": "1.5.0",
            "_model_name": "ProgressStyleModel",
            "_view_count": null,
            "_view_module": "@jupyter-widgets/base",
            "_view_module_version": "1.2.0",
            "_view_name": "StyleView",
            "bar_color": null,
            "description_width": ""
          }
        },
        "443fb1c7aacf4206b47bd70263abc893": {
          "model_module": "@jupyter-widgets/base",
          "model_name": "LayoutModel",
          "model_module_version": "1.2.0",
          "state": {
            "_model_module": "@jupyter-widgets/base",
            "_model_module_version": "1.2.0",
            "_model_name": "LayoutModel",
            "_view_count": null,
            "_view_module": "@jupyter-widgets/base",
            "_view_module_version": "1.2.0",
            "_view_name": "LayoutView",
            "align_content": null,
            "align_items": null,
            "align_self": null,
            "border": null,
            "bottom": null,
            "display": null,
            "flex": null,
            "flex_flow": null,
            "grid_area": null,
            "grid_auto_columns": null,
            "grid_auto_flow": null,
            "grid_auto_rows": null,
            "grid_column": null,
            "grid_gap": null,
            "grid_row": null,
            "grid_template_areas": null,
            "grid_template_columns": null,
            "grid_template_rows": null,
            "height": null,
            "justify_content": null,
            "justify_items": null,
            "left": null,
            "margin": null,
            "max_height": null,
            "max_width": null,
            "min_height": null,
            "min_width": null,
            "object_fit": null,
            "object_position": null,
            "order": null,
            "overflow": null,
            "overflow_x": null,
            "overflow_y": null,
            "padding": null,
            "right": null,
            "top": null,
            "visibility": null,
            "width": null
          }
        },
        "0c0aafc7907141d9ba220012591a1ba2": {
          "model_module": "@jupyter-widgets/controls",
          "model_name": "DescriptionStyleModel",
          "model_module_version": "1.5.0",
          "state": {
            "_model_module": "@jupyter-widgets/controls",
            "_model_module_version": "1.5.0",
            "_model_name": "DescriptionStyleModel",
            "_view_count": null,
            "_view_module": "@jupyter-widgets/base",
            "_view_module_version": "1.2.0",
            "_view_name": "StyleView",
            "description_width": ""
          }
        },
        "d8768e5370c743d4ac49d30e1d352761": {
          "model_module": "@jupyter-widgets/controls",
          "model_name": "HBoxModel",
          "model_module_version": "1.5.0",
          "state": {
            "_dom_classes": [],
            "_model_module": "@jupyter-widgets/controls",
            "_model_module_version": "1.5.0",
            "_model_name": "HBoxModel",
            "_view_count": null,
            "_view_module": "@jupyter-widgets/controls",
            "_view_module_version": "1.5.0",
            "_view_name": "HBoxView",
            "box_style": "",
            "children": [
              "IPY_MODEL_93758681c2054091b7b80f3e65129b00",
              "IPY_MODEL_217d232dfac84a5696f9b140196e2b1f",
              "IPY_MODEL_f892277e6aec40419efdc0264a2d9b2e"
            ],
            "layout": "IPY_MODEL_059aa0064bc04d359d7af703dd72d621"
          }
        },
        "93758681c2054091b7b80f3e65129b00": {
          "model_module": "@jupyter-widgets/controls",
          "model_name": "HTMLModel",
          "model_module_version": "1.5.0",
          "state": {
            "_dom_classes": [],
            "_model_module": "@jupyter-widgets/controls",
            "_model_module_version": "1.5.0",
            "_model_name": "HTMLModel",
            "_view_count": null,
            "_view_module": "@jupyter-widgets/controls",
            "_view_module_version": "1.5.0",
            "_view_name": "HTMLView",
            "description": "",
            "description_tooltip": null,
            "layout": "IPY_MODEL_bfa28f522bc54d7f85ccb54280aab65a",
            "placeholder": "​",
            "style": "IPY_MODEL_1fa31cec2cbc4d89bab8478f93fa6a28",
            "value": "merges.txt: 100%"
          }
        },
        "217d232dfac84a5696f9b140196e2b1f": {
          "model_module": "@jupyter-widgets/controls",
          "model_name": "FloatProgressModel",
          "model_module_version": "1.5.0",
          "state": {
            "_dom_classes": [],
            "_model_module": "@jupyter-widgets/controls",
            "_model_module_version": "1.5.0",
            "_model_name": "FloatProgressModel",
            "_view_count": null,
            "_view_module": "@jupyter-widgets/controls",
            "_view_module_version": "1.5.0",
            "_view_name": "ProgressView",
            "bar_style": "success",
            "description": "",
            "description_tooltip": null,
            "layout": "IPY_MODEL_4e2aa8dd51b04776acf878ed1673130e",
            "max": 456318,
            "min": 0,
            "orientation": "horizontal",
            "style": "IPY_MODEL_acf791fb1456462695321c273ee84c81",
            "value": 456318
          }
        },
        "f892277e6aec40419efdc0264a2d9b2e": {
          "model_module": "@jupyter-widgets/controls",
          "model_name": "HTMLModel",
          "model_module_version": "1.5.0",
          "state": {
            "_dom_classes": [],
            "_model_module": "@jupyter-widgets/controls",
            "_model_module_version": "1.5.0",
            "_model_name": "HTMLModel",
            "_view_count": null,
            "_view_module": "@jupyter-widgets/controls",
            "_view_module_version": "1.5.0",
            "_view_name": "HTMLView",
            "description": "",
            "description_tooltip": null,
            "layout": "IPY_MODEL_412db45418734aa7b1034a11e688fe2d",
            "placeholder": "​",
            "style": "IPY_MODEL_7abf680b3a144d1187d2003f279f573a",
            "value": " 456k/456k [00:00&lt;00:00, 33.2MB/s]"
          }
        },
        "059aa0064bc04d359d7af703dd72d621": {
          "model_module": "@jupyter-widgets/base",
          "model_name": "LayoutModel",
          "model_module_version": "1.2.0",
          "state": {
            "_model_module": "@jupyter-widgets/base",
            "_model_module_version": "1.2.0",
            "_model_name": "LayoutModel",
            "_view_count": null,
            "_view_module": "@jupyter-widgets/base",
            "_view_module_version": "1.2.0",
            "_view_name": "LayoutView",
            "align_content": null,
            "align_items": null,
            "align_self": null,
            "border": null,
            "bottom": null,
            "display": null,
            "flex": null,
            "flex_flow": null,
            "grid_area": null,
            "grid_auto_columns": null,
            "grid_auto_flow": null,
            "grid_auto_rows": null,
            "grid_column": null,
            "grid_gap": null,
            "grid_row": null,
            "grid_template_areas": null,
            "grid_template_columns": null,
            "grid_template_rows": null,
            "height": null,
            "justify_content": null,
            "justify_items": null,
            "left": null,
            "margin": null,
            "max_height": null,
            "max_width": null,
            "min_height": null,
            "min_width": null,
            "object_fit": null,
            "object_position": null,
            "order": null,
            "overflow": null,
            "overflow_x": null,
            "overflow_y": null,
            "padding": null,
            "right": null,
            "top": null,
            "visibility": null,
            "width": null
          }
        },
        "bfa28f522bc54d7f85ccb54280aab65a": {
          "model_module": "@jupyter-widgets/base",
          "model_name": "LayoutModel",
          "model_module_version": "1.2.0",
          "state": {
            "_model_module": "@jupyter-widgets/base",
            "_model_module_version": "1.2.0",
            "_model_name": "LayoutModel",
            "_view_count": null,
            "_view_module": "@jupyter-widgets/base",
            "_view_module_version": "1.2.0",
            "_view_name": "LayoutView",
            "align_content": null,
            "align_items": null,
            "align_self": null,
            "border": null,
            "bottom": null,
            "display": null,
            "flex": null,
            "flex_flow": null,
            "grid_area": null,
            "grid_auto_columns": null,
            "grid_auto_flow": null,
            "grid_auto_rows": null,
            "grid_column": null,
            "grid_gap": null,
            "grid_row": null,
            "grid_template_areas": null,
            "grid_template_columns": null,
            "grid_template_rows": null,
            "height": null,
            "justify_content": null,
            "justify_items": null,
            "left": null,
            "margin": null,
            "max_height": null,
            "max_width": null,
            "min_height": null,
            "min_width": null,
            "object_fit": null,
            "object_position": null,
            "order": null,
            "overflow": null,
            "overflow_x": null,
            "overflow_y": null,
            "padding": null,
            "right": null,
            "top": null,
            "visibility": null,
            "width": null
          }
        },
        "1fa31cec2cbc4d89bab8478f93fa6a28": {
          "model_module": "@jupyter-widgets/controls",
          "model_name": "DescriptionStyleModel",
          "model_module_version": "1.5.0",
          "state": {
            "_model_module": "@jupyter-widgets/controls",
            "_model_module_version": "1.5.0",
            "_model_name": "DescriptionStyleModel",
            "_view_count": null,
            "_view_module": "@jupyter-widgets/base",
            "_view_module_version": "1.2.0",
            "_view_name": "StyleView",
            "description_width": ""
          }
        },
        "4e2aa8dd51b04776acf878ed1673130e": {
          "model_module": "@jupyter-widgets/base",
          "model_name": "LayoutModel",
          "model_module_version": "1.2.0",
          "state": {
            "_model_module": "@jupyter-widgets/base",
            "_model_module_version": "1.2.0",
            "_model_name": "LayoutModel",
            "_view_count": null,
            "_view_module": "@jupyter-widgets/base",
            "_view_module_version": "1.2.0",
            "_view_name": "LayoutView",
            "align_content": null,
            "align_items": null,
            "align_self": null,
            "border": null,
            "bottom": null,
            "display": null,
            "flex": null,
            "flex_flow": null,
            "grid_area": null,
            "grid_auto_columns": null,
            "grid_auto_flow": null,
            "grid_auto_rows": null,
            "grid_column": null,
            "grid_gap": null,
            "grid_row": null,
            "grid_template_areas": null,
            "grid_template_columns": null,
            "grid_template_rows": null,
            "height": null,
            "justify_content": null,
            "justify_items": null,
            "left": null,
            "margin": null,
            "max_height": null,
            "max_width": null,
            "min_height": null,
            "min_width": null,
            "object_fit": null,
            "object_position": null,
            "order": null,
            "overflow": null,
            "overflow_x": null,
            "overflow_y": null,
            "padding": null,
            "right": null,
            "top": null,
            "visibility": null,
            "width": null
          }
        },
        "acf791fb1456462695321c273ee84c81": {
          "model_module": "@jupyter-widgets/controls",
          "model_name": "ProgressStyleModel",
          "model_module_version": "1.5.0",
          "state": {
            "_model_module": "@jupyter-widgets/controls",
            "_model_module_version": "1.5.0",
            "_model_name": "ProgressStyleModel",
            "_view_count": null,
            "_view_module": "@jupyter-widgets/base",
            "_view_module_version": "1.2.0",
            "_view_name": "StyleView",
            "bar_color": null,
            "description_width": ""
          }
        },
        "412db45418734aa7b1034a11e688fe2d": {
          "model_module": "@jupyter-widgets/base",
          "model_name": "LayoutModel",
          "model_module_version": "1.2.0",
          "state": {
            "_model_module": "@jupyter-widgets/base",
            "_model_module_version": "1.2.0",
            "_model_name": "LayoutModel",
            "_view_count": null,
            "_view_module": "@jupyter-widgets/base",
            "_view_module_version": "1.2.0",
            "_view_name": "LayoutView",
            "align_content": null,
            "align_items": null,
            "align_self": null,
            "border": null,
            "bottom": null,
            "display": null,
            "flex": null,
            "flex_flow": null,
            "grid_area": null,
            "grid_auto_columns": null,
            "grid_auto_flow": null,
            "grid_auto_rows": null,
            "grid_column": null,
            "grid_gap": null,
            "grid_row": null,
            "grid_template_areas": null,
            "grid_template_columns": null,
            "grid_template_rows": null,
            "height": null,
            "justify_content": null,
            "justify_items": null,
            "left": null,
            "margin": null,
            "max_height": null,
            "max_width": null,
            "min_height": null,
            "min_width": null,
            "object_fit": null,
            "object_position": null,
            "order": null,
            "overflow": null,
            "overflow_x": null,
            "overflow_y": null,
            "padding": null,
            "right": null,
            "top": null,
            "visibility": null,
            "width": null
          }
        },
        "7abf680b3a144d1187d2003f279f573a": {
          "model_module": "@jupyter-widgets/controls",
          "model_name": "DescriptionStyleModel",
          "model_module_version": "1.5.0",
          "state": {
            "_model_module": "@jupyter-widgets/controls",
            "_model_module_version": "1.5.0",
            "_model_name": "DescriptionStyleModel",
            "_view_count": null,
            "_view_module": "@jupyter-widgets/base",
            "_view_module_version": "1.2.0",
            "_view_name": "StyleView",
            "description_width": ""
          }
        },
        "606d5bd5da644af79f843a6da47848a5": {
          "model_module": "@jupyter-widgets/controls",
          "model_name": "HBoxModel",
          "model_module_version": "1.5.0",
          "state": {
            "_dom_classes": [],
            "_model_module": "@jupyter-widgets/controls",
            "_model_module_version": "1.5.0",
            "_model_name": "HBoxModel",
            "_view_count": null,
            "_view_module": "@jupyter-widgets/controls",
            "_view_module_version": "1.5.0",
            "_view_name": "HBoxView",
            "box_style": "",
            "children": [
              "IPY_MODEL_b7e823473c5d4b7084ea76bc89a59feb",
              "IPY_MODEL_200bd884f52d4c66afd1fed11ea35379",
              "IPY_MODEL_6bcca149c75e4480b93f0d8e680ff85a"
            ],
            "layout": "IPY_MODEL_a3307e55e147475a9938848d03ae6e88"
          }
        },
        "b7e823473c5d4b7084ea76bc89a59feb": {
          "model_module": "@jupyter-widgets/controls",
          "model_name": "HTMLModel",
          "model_module_version": "1.5.0",
          "state": {
            "_dom_classes": [],
            "_model_module": "@jupyter-widgets/controls",
            "_model_module_version": "1.5.0",
            "_model_name": "HTMLModel",
            "_view_count": null,
            "_view_module": "@jupyter-widgets/controls",
            "_view_module_version": "1.5.0",
            "_view_name": "HTMLView",
            "description": "",
            "description_tooltip": null,
            "layout": "IPY_MODEL_18937809381743ed80b6f9733fa82c42",
            "placeholder": "​",
            "style": "IPY_MODEL_0e2a4f6cd98d40a6b9daf5737297efe8",
            "value": "tokenizer.json: 100%"
          }
        },
        "200bd884f52d4c66afd1fed11ea35379": {
          "model_module": "@jupyter-widgets/controls",
          "model_name": "FloatProgressModel",
          "model_module_version": "1.5.0",
          "state": {
            "_dom_classes": [],
            "_model_module": "@jupyter-widgets/controls",
            "_model_module_version": "1.5.0",
            "_model_name": "FloatProgressModel",
            "_view_count": null,
            "_view_module": "@jupyter-widgets/controls",
            "_view_module_version": "1.5.0",
            "_view_name": "ProgressView",
            "bar_style": "success",
            "description": "",
            "description_tooltip": null,
            "layout": "IPY_MODEL_fd81ca1d02114151b3beefaf8c65174f",
            "max": 1355863,
            "min": 0,
            "orientation": "horizontal",
            "style": "IPY_MODEL_0bc7583410de4d5ba3491080fba4d763",
            "value": 1355863
          }
        },
        "6bcca149c75e4480b93f0d8e680ff85a": {
          "model_module": "@jupyter-widgets/controls",
          "model_name": "HTMLModel",
          "model_module_version": "1.5.0",
          "state": {
            "_dom_classes": [],
            "_model_module": "@jupyter-widgets/controls",
            "_model_module_version": "1.5.0",
            "_model_name": "HTMLModel",
            "_view_count": null,
            "_view_module": "@jupyter-widgets/controls",
            "_view_module_version": "1.5.0",
            "_view_name": "HTMLView",
            "description": "",
            "description_tooltip": null,
            "layout": "IPY_MODEL_bb8c1bd54934495d970c81f98fcd2876",
            "placeholder": "​",
            "style": "IPY_MODEL_0512cbc298954804999c45cc34094340",
            "value": " 1.36M/1.36M [00:00&lt;00:00, 48.7MB/s]"
          }
        },
        "a3307e55e147475a9938848d03ae6e88": {
          "model_module": "@jupyter-widgets/base",
          "model_name": "LayoutModel",
          "model_module_version": "1.2.0",
          "state": {
            "_model_module": "@jupyter-widgets/base",
            "_model_module_version": "1.2.0",
            "_model_name": "LayoutModel",
            "_view_count": null,
            "_view_module": "@jupyter-widgets/base",
            "_view_module_version": "1.2.0",
            "_view_name": "LayoutView",
            "align_content": null,
            "align_items": null,
            "align_self": null,
            "border": null,
            "bottom": null,
            "display": null,
            "flex": null,
            "flex_flow": null,
            "grid_area": null,
            "grid_auto_columns": null,
            "grid_auto_flow": null,
            "grid_auto_rows": null,
            "grid_column": null,
            "grid_gap": null,
            "grid_row": null,
            "grid_template_areas": null,
            "grid_template_columns": null,
            "grid_template_rows": null,
            "height": null,
            "justify_content": null,
            "justify_items": null,
            "left": null,
            "margin": null,
            "max_height": null,
            "max_width": null,
            "min_height": null,
            "min_width": null,
            "object_fit": null,
            "object_position": null,
            "order": null,
            "overflow": null,
            "overflow_x": null,
            "overflow_y": null,
            "padding": null,
            "right": null,
            "top": null,
            "visibility": null,
            "width": null
          }
        },
        "18937809381743ed80b6f9733fa82c42": {
          "model_module": "@jupyter-widgets/base",
          "model_name": "LayoutModel",
          "model_module_version": "1.2.0",
          "state": {
            "_model_module": "@jupyter-widgets/base",
            "_model_module_version": "1.2.0",
            "_model_name": "LayoutModel",
            "_view_count": null,
            "_view_module": "@jupyter-widgets/base",
            "_view_module_version": "1.2.0",
            "_view_name": "LayoutView",
            "align_content": null,
            "align_items": null,
            "align_self": null,
            "border": null,
            "bottom": null,
            "display": null,
            "flex": null,
            "flex_flow": null,
            "grid_area": null,
            "grid_auto_columns": null,
            "grid_auto_flow": null,
            "grid_auto_rows": null,
            "grid_column": null,
            "grid_gap": null,
            "grid_row": null,
            "grid_template_areas": null,
            "grid_template_columns": null,
            "grid_template_rows": null,
            "height": null,
            "justify_content": null,
            "justify_items": null,
            "left": null,
            "margin": null,
            "max_height": null,
            "max_width": null,
            "min_height": null,
            "min_width": null,
            "object_fit": null,
            "object_position": null,
            "order": null,
            "overflow": null,
            "overflow_x": null,
            "overflow_y": null,
            "padding": null,
            "right": null,
            "top": null,
            "visibility": null,
            "width": null
          }
        },
        "0e2a4f6cd98d40a6b9daf5737297efe8": {
          "model_module": "@jupyter-widgets/controls",
          "model_name": "DescriptionStyleModel",
          "model_module_version": "1.5.0",
          "state": {
            "_model_module": "@jupyter-widgets/controls",
            "_model_module_version": "1.5.0",
            "_model_name": "DescriptionStyleModel",
            "_view_count": null,
            "_view_module": "@jupyter-widgets/base",
            "_view_module_version": "1.2.0",
            "_view_name": "StyleView",
            "description_width": ""
          }
        },
        "fd81ca1d02114151b3beefaf8c65174f": {
          "model_module": "@jupyter-widgets/base",
          "model_name": "LayoutModel",
          "model_module_version": "1.2.0",
          "state": {
            "_model_module": "@jupyter-widgets/base",
            "_model_module_version": "1.2.0",
            "_model_name": "LayoutModel",
            "_view_count": null,
            "_view_module": "@jupyter-widgets/base",
            "_view_module_version": "1.2.0",
            "_view_name": "LayoutView",
            "align_content": null,
            "align_items": null,
            "align_self": null,
            "border": null,
            "bottom": null,
            "display": null,
            "flex": null,
            "flex_flow": null,
            "grid_area": null,
            "grid_auto_columns": null,
            "grid_auto_flow": null,
            "grid_auto_rows": null,
            "grid_column": null,
            "grid_gap": null,
            "grid_row": null,
            "grid_template_areas": null,
            "grid_template_columns": null,
            "grid_template_rows": null,
            "height": null,
            "justify_content": null,
            "justify_items": null,
            "left": null,
            "margin": null,
            "max_height": null,
            "max_width": null,
            "min_height": null,
            "min_width": null,
            "object_fit": null,
            "object_position": null,
            "order": null,
            "overflow": null,
            "overflow_x": null,
            "overflow_y": null,
            "padding": null,
            "right": null,
            "top": null,
            "visibility": null,
            "width": null
          }
        },
        "0bc7583410de4d5ba3491080fba4d763": {
          "model_module": "@jupyter-widgets/controls",
          "model_name": "ProgressStyleModel",
          "model_module_version": "1.5.0",
          "state": {
            "_model_module": "@jupyter-widgets/controls",
            "_model_module_version": "1.5.0",
            "_model_name": "ProgressStyleModel",
            "_view_count": null,
            "_view_module": "@jupyter-widgets/base",
            "_view_module_version": "1.2.0",
            "_view_name": "StyleView",
            "bar_color": null,
            "description_width": ""
          }
        },
        "bb8c1bd54934495d970c81f98fcd2876": {
          "model_module": "@jupyter-widgets/base",
          "model_name": "LayoutModel",
          "model_module_version": "1.2.0",
          "state": {
            "_model_module": "@jupyter-widgets/base",
            "_model_module_version": "1.2.0",
            "_model_name": "LayoutModel",
            "_view_count": null,
            "_view_module": "@jupyter-widgets/base",
            "_view_module_version": "1.2.0",
            "_view_name": "LayoutView",
            "align_content": null,
            "align_items": null,
            "align_self": null,
            "border": null,
            "bottom": null,
            "display": null,
            "flex": null,
            "flex_flow": null,
            "grid_area": null,
            "grid_auto_columns": null,
            "grid_auto_flow": null,
            "grid_auto_rows": null,
            "grid_column": null,
            "grid_gap": null,
            "grid_row": null,
            "grid_template_areas": null,
            "grid_template_columns": null,
            "grid_template_rows": null,
            "height": null,
            "justify_content": null,
            "justify_items": null,
            "left": null,
            "margin": null,
            "max_height": null,
            "max_width": null,
            "min_height": null,
            "min_width": null,
            "object_fit": null,
            "object_position": null,
            "order": null,
            "overflow": null,
            "overflow_x": null,
            "overflow_y": null,
            "padding": null,
            "right": null,
            "top": null,
            "visibility": null,
            "width": null
          }
        },
        "0512cbc298954804999c45cc34094340": {
          "model_module": "@jupyter-widgets/controls",
          "model_name": "DescriptionStyleModel",
          "model_module_version": "1.5.0",
          "state": {
            "_model_module": "@jupyter-widgets/controls",
            "_model_module_version": "1.5.0",
            "_model_name": "DescriptionStyleModel",
            "_view_count": null,
            "_view_module": "@jupyter-widgets/base",
            "_view_module_version": "1.2.0",
            "_view_name": "StyleView",
            "description_width": ""
          }
        },
        "d331d67e5e9e43b697e5e386876ec285": {
          "model_module": "@jupyter-widgets/controls",
          "model_name": "HBoxModel",
          "model_module_version": "1.5.0",
          "state": {
            "_dom_classes": [],
            "_model_module": "@jupyter-widgets/controls",
            "_model_module_version": "1.5.0",
            "_model_name": "HBoxModel",
            "_view_count": null,
            "_view_module": "@jupyter-widgets/controls",
            "_view_module_version": "1.5.0",
            "_view_name": "HBoxView",
            "box_style": "",
            "children": [
              "IPY_MODEL_5018c59027f3486e85a39b9e29a5ddc6",
              "IPY_MODEL_61252b65a9f548fbba42493d58009f6a",
              "IPY_MODEL_42215d88299440508f597dbcbe1e6d11"
            ],
            "layout": "IPY_MODEL_e46e44fefb4e4a3481b46b78a7d218c6"
          }
        },
        "5018c59027f3486e85a39b9e29a5ddc6": {
          "model_module": "@jupyter-widgets/controls",
          "model_name": "HTMLModel",
          "model_module_version": "1.5.0",
          "state": {
            "_dom_classes": [],
            "_model_module": "@jupyter-widgets/controls",
            "_model_module_version": "1.5.0",
            "_model_name": "HTMLModel",
            "_view_count": null,
            "_view_module": "@jupyter-widgets/controls",
            "_view_module_version": "1.5.0",
            "_view_name": "HTMLView",
            "description": "",
            "description_tooltip": null,
            "layout": "IPY_MODEL_424a359ae1da4eea830eb0ac6a082198",
            "placeholder": "​",
            "style": "IPY_MODEL_a89f5b8d5fdc4201954e6082e869cb3e",
            "value": "config.json: 100%"
          }
        },
        "61252b65a9f548fbba42493d58009f6a": {
          "model_module": "@jupyter-widgets/controls",
          "model_name": "FloatProgressModel",
          "model_module_version": "1.5.0",
          "state": {
            "_dom_classes": [],
            "_model_module": "@jupyter-widgets/controls",
            "_model_module_version": "1.5.0",
            "_model_name": "FloatProgressModel",
            "_view_count": null,
            "_view_module": "@jupyter-widgets/controls",
            "_view_module_version": "1.5.0",
            "_view_name": "ProgressView",
            "bar_style": "success",
            "description": "",
            "description_tooltip": null,
            "layout": "IPY_MODEL_0c78039ca01e4165b59989d644c2a499",
            "max": 481,
            "min": 0,
            "orientation": "horizontal",
            "style": "IPY_MODEL_9c65bbe097a64bd39c351a08452062a5",
            "value": 481
          }
        },
        "42215d88299440508f597dbcbe1e6d11": {
          "model_module": "@jupyter-widgets/controls",
          "model_name": "HTMLModel",
          "model_module_version": "1.5.0",
          "state": {
            "_dom_classes": [],
            "_model_module": "@jupyter-widgets/controls",
            "_model_module_version": "1.5.0",
            "_model_name": "HTMLModel",
            "_view_count": null,
            "_view_module": "@jupyter-widgets/controls",
            "_view_module_version": "1.5.0",
            "_view_name": "HTMLView",
            "description": "",
            "description_tooltip": null,
            "layout": "IPY_MODEL_71a0c9c0409e4aaeb072464b2950628d",
            "placeholder": "​",
            "style": "IPY_MODEL_e7435e0c57d3442f88712cc5cdead3da",
            "value": " 481/481 [00:00&lt;00:00, 39.4kB/s]"
          }
        },
        "e46e44fefb4e4a3481b46b78a7d218c6": {
          "model_module": "@jupyter-widgets/base",
          "model_name": "LayoutModel",
          "model_module_version": "1.2.0",
          "state": {
            "_model_module": "@jupyter-widgets/base",
            "_model_module_version": "1.2.0",
            "_model_name": "LayoutModel",
            "_view_count": null,
            "_view_module": "@jupyter-widgets/base",
            "_view_module_version": "1.2.0",
            "_view_name": "LayoutView",
            "align_content": null,
            "align_items": null,
            "align_self": null,
            "border": null,
            "bottom": null,
            "display": null,
            "flex": null,
            "flex_flow": null,
            "grid_area": null,
            "grid_auto_columns": null,
            "grid_auto_flow": null,
            "grid_auto_rows": null,
            "grid_column": null,
            "grid_gap": null,
            "grid_row": null,
            "grid_template_areas": null,
            "grid_template_columns": null,
            "grid_template_rows": null,
            "height": null,
            "justify_content": null,
            "justify_items": null,
            "left": null,
            "margin": null,
            "max_height": null,
            "max_width": null,
            "min_height": null,
            "min_width": null,
            "object_fit": null,
            "object_position": null,
            "order": null,
            "overflow": null,
            "overflow_x": null,
            "overflow_y": null,
            "padding": null,
            "right": null,
            "top": null,
            "visibility": null,
            "width": null
          }
        },
        "424a359ae1da4eea830eb0ac6a082198": {
          "model_module": "@jupyter-widgets/base",
          "model_name": "LayoutModel",
          "model_module_version": "1.2.0",
          "state": {
            "_model_module": "@jupyter-widgets/base",
            "_model_module_version": "1.2.0",
            "_model_name": "LayoutModel",
            "_view_count": null,
            "_view_module": "@jupyter-widgets/base",
            "_view_module_version": "1.2.0",
            "_view_name": "LayoutView",
            "align_content": null,
            "align_items": null,
            "align_self": null,
            "border": null,
            "bottom": null,
            "display": null,
            "flex": null,
            "flex_flow": null,
            "grid_area": null,
            "grid_auto_columns": null,
            "grid_auto_flow": null,
            "grid_auto_rows": null,
            "grid_column": null,
            "grid_gap": null,
            "grid_row": null,
            "grid_template_areas": null,
            "grid_template_columns": null,
            "grid_template_rows": null,
            "height": null,
            "justify_content": null,
            "justify_items": null,
            "left": null,
            "margin": null,
            "max_height": null,
            "max_width": null,
            "min_height": null,
            "min_width": null,
            "object_fit": null,
            "object_position": null,
            "order": null,
            "overflow": null,
            "overflow_x": null,
            "overflow_y": null,
            "padding": null,
            "right": null,
            "top": null,
            "visibility": null,
            "width": null
          }
        },
        "a89f5b8d5fdc4201954e6082e869cb3e": {
          "model_module": "@jupyter-widgets/controls",
          "model_name": "DescriptionStyleModel",
          "model_module_version": "1.5.0",
          "state": {
            "_model_module": "@jupyter-widgets/controls",
            "_model_module_version": "1.5.0",
            "_model_name": "DescriptionStyleModel",
            "_view_count": null,
            "_view_module": "@jupyter-widgets/base",
            "_view_module_version": "1.2.0",
            "_view_name": "StyleView",
            "description_width": ""
          }
        },
        "0c78039ca01e4165b59989d644c2a499": {
          "model_module": "@jupyter-widgets/base",
          "model_name": "LayoutModel",
          "model_module_version": "1.2.0",
          "state": {
            "_model_module": "@jupyter-widgets/base",
            "_model_module_version": "1.2.0",
            "_model_name": "LayoutModel",
            "_view_count": null,
            "_view_module": "@jupyter-widgets/base",
            "_view_module_version": "1.2.0",
            "_view_name": "LayoutView",
            "align_content": null,
            "align_items": null,
            "align_self": null,
            "border": null,
            "bottom": null,
            "display": null,
            "flex": null,
            "flex_flow": null,
            "grid_area": null,
            "grid_auto_columns": null,
            "grid_auto_flow": null,
            "grid_auto_rows": null,
            "grid_column": null,
            "grid_gap": null,
            "grid_row": null,
            "grid_template_areas": null,
            "grid_template_columns": null,
            "grid_template_rows": null,
            "height": null,
            "justify_content": null,
            "justify_items": null,
            "left": null,
            "margin": null,
            "max_height": null,
            "max_width": null,
            "min_height": null,
            "min_width": null,
            "object_fit": null,
            "object_position": null,
            "order": null,
            "overflow": null,
            "overflow_x": null,
            "overflow_y": null,
            "padding": null,
            "right": null,
            "top": null,
            "visibility": null,
            "width": null
          }
        },
        "9c65bbe097a64bd39c351a08452062a5": {
          "model_module": "@jupyter-widgets/controls",
          "model_name": "ProgressStyleModel",
          "model_module_version": "1.5.0",
          "state": {
            "_model_module": "@jupyter-widgets/controls",
            "_model_module_version": "1.5.0",
            "_model_name": "ProgressStyleModel",
            "_view_count": null,
            "_view_module": "@jupyter-widgets/base",
            "_view_module_version": "1.2.0",
            "_view_name": "StyleView",
            "bar_color": null,
            "description_width": ""
          }
        },
        "71a0c9c0409e4aaeb072464b2950628d": {
          "model_module": "@jupyter-widgets/base",
          "model_name": "LayoutModel",
          "model_module_version": "1.2.0",
          "state": {
            "_model_module": "@jupyter-widgets/base",
            "_model_module_version": "1.2.0",
            "_model_name": "LayoutModel",
            "_view_count": null,
            "_view_module": "@jupyter-widgets/base",
            "_view_module_version": "1.2.0",
            "_view_name": "LayoutView",
            "align_content": null,
            "align_items": null,
            "align_self": null,
            "border": null,
            "bottom": null,
            "display": null,
            "flex": null,
            "flex_flow": null,
            "grid_area": null,
            "grid_auto_columns": null,
            "grid_auto_flow": null,
            "grid_auto_rows": null,
            "grid_column": null,
            "grid_gap": null,
            "grid_row": null,
            "grid_template_areas": null,
            "grid_template_columns": null,
            "grid_template_rows": null,
            "height": null,
            "justify_content": null,
            "justify_items": null,
            "left": null,
            "margin": null,
            "max_height": null,
            "max_width": null,
            "min_height": null,
            "min_width": null,
            "object_fit": null,
            "object_position": null,
            "order": null,
            "overflow": null,
            "overflow_x": null,
            "overflow_y": null,
            "padding": null,
            "right": null,
            "top": null,
            "visibility": null,
            "width": null
          }
        },
        "e7435e0c57d3442f88712cc5cdead3da": {
          "model_module": "@jupyter-widgets/controls",
          "model_name": "DescriptionStyleModel",
          "model_module_version": "1.5.0",
          "state": {
            "_model_module": "@jupyter-widgets/controls",
            "_model_module_version": "1.5.0",
            "_model_name": "DescriptionStyleModel",
            "_view_count": null,
            "_view_module": "@jupyter-widgets/base",
            "_view_module_version": "1.2.0",
            "_view_name": "StyleView",
            "description_width": ""
          }
        },
        "a0fbfe0e1abe406480fb29ace570164d": {
          "model_module": "@jupyter-widgets/controls",
          "model_name": "HBoxModel",
          "model_module_version": "1.5.0",
          "state": {
            "_dom_classes": [],
            "_model_module": "@jupyter-widgets/controls",
            "_model_module_version": "1.5.0",
            "_model_name": "HBoxModel",
            "_view_count": null,
            "_view_module": "@jupyter-widgets/controls",
            "_view_module_version": "1.5.0",
            "_view_name": "HBoxView",
            "box_style": "",
            "children": [
              "IPY_MODEL_416da4bcf9d840269a78aa72fd7b36f8",
              "IPY_MODEL_897f2da711d94b7a942521bd4860e93b",
              "IPY_MODEL_a0b84169a3bc445f9447a232ccaa6d91"
            ],
            "layout": "IPY_MODEL_70cd1212152a4c1ebc42f2d2b30c1ddc"
          }
        },
        "416da4bcf9d840269a78aa72fd7b36f8": {
          "model_module": "@jupyter-widgets/controls",
          "model_name": "HTMLModel",
          "model_module_version": "1.5.0",
          "state": {
            "_dom_classes": [],
            "_model_module": "@jupyter-widgets/controls",
            "_model_module_version": "1.5.0",
            "_model_name": "HTMLModel",
            "_view_count": null,
            "_view_module": "@jupyter-widgets/controls",
            "_view_module_version": "1.5.0",
            "_view_name": "HTMLView",
            "description": "",
            "description_tooltip": null,
            "layout": "IPY_MODEL_d10c7ed209484cc9a5fb9fdd56316a44",
            "placeholder": "​",
            "style": "IPY_MODEL_d05f32f92d9e4646a039188398d7050b",
            "value": "model.safetensors: 100%"
          }
        },
        "897f2da711d94b7a942521bd4860e93b": {
          "model_module": "@jupyter-widgets/controls",
          "model_name": "FloatProgressModel",
          "model_module_version": "1.5.0",
          "state": {
            "_dom_classes": [],
            "_model_module": "@jupyter-widgets/controls",
            "_model_module_version": "1.5.0",
            "_model_name": "FloatProgressModel",
            "_view_count": null,
            "_view_module": "@jupyter-widgets/controls",
            "_view_module_version": "1.5.0",
            "_view_name": "ProgressView",
            "bar_style": "success",
            "description": "",
            "description_tooltip": null,
            "layout": "IPY_MODEL_24d5811207bd4342993d3d2bc3b5c2f0",
            "max": 498818054,
            "min": 0,
            "orientation": "horizontal",
            "style": "IPY_MODEL_13c05476824149d3a4d0e9cdcae8c418",
            "value": 498818054
          }
        },
        "a0b84169a3bc445f9447a232ccaa6d91": {
          "model_module": "@jupyter-widgets/controls",
          "model_name": "HTMLModel",
          "model_module_version": "1.5.0",
          "state": {
            "_dom_classes": [],
            "_model_module": "@jupyter-widgets/controls",
            "_model_module_version": "1.5.0",
            "_model_name": "HTMLModel",
            "_view_count": null,
            "_view_module": "@jupyter-widgets/controls",
            "_view_module_version": "1.5.0",
            "_view_name": "HTMLView",
            "description": "",
            "description_tooltip": null,
            "layout": "IPY_MODEL_77c6159d0aa643f599e6caa3214f70cc",
            "placeholder": "​",
            "style": "IPY_MODEL_2843e0b8809d4c1e8cdb6c1f0a82a484",
            "value": " 499M/499M [00:01&lt;00:00, 479MB/s]"
          }
        },
        "70cd1212152a4c1ebc42f2d2b30c1ddc": {
          "model_module": "@jupyter-widgets/base",
          "model_name": "LayoutModel",
          "model_module_version": "1.2.0",
          "state": {
            "_model_module": "@jupyter-widgets/base",
            "_model_module_version": "1.2.0",
            "_model_name": "LayoutModel",
            "_view_count": null,
            "_view_module": "@jupyter-widgets/base",
            "_view_module_version": "1.2.0",
            "_view_name": "LayoutView",
            "align_content": null,
            "align_items": null,
            "align_self": null,
            "border": null,
            "bottom": null,
            "display": null,
            "flex": null,
            "flex_flow": null,
            "grid_area": null,
            "grid_auto_columns": null,
            "grid_auto_flow": null,
            "grid_auto_rows": null,
            "grid_column": null,
            "grid_gap": null,
            "grid_row": null,
            "grid_template_areas": null,
            "grid_template_columns": null,
            "grid_template_rows": null,
            "height": null,
            "justify_content": null,
            "justify_items": null,
            "left": null,
            "margin": null,
            "max_height": null,
            "max_width": null,
            "min_height": null,
            "min_width": null,
            "object_fit": null,
            "object_position": null,
            "order": null,
            "overflow": null,
            "overflow_x": null,
            "overflow_y": null,
            "padding": null,
            "right": null,
            "top": null,
            "visibility": null,
            "width": null
          }
        },
        "d10c7ed209484cc9a5fb9fdd56316a44": {
          "model_module": "@jupyter-widgets/base",
          "model_name": "LayoutModel",
          "model_module_version": "1.2.0",
          "state": {
            "_model_module": "@jupyter-widgets/base",
            "_model_module_version": "1.2.0",
            "_model_name": "LayoutModel",
            "_view_count": null,
            "_view_module": "@jupyter-widgets/base",
            "_view_module_version": "1.2.0",
            "_view_name": "LayoutView",
            "align_content": null,
            "align_items": null,
            "align_self": null,
            "border": null,
            "bottom": null,
            "display": null,
            "flex": null,
            "flex_flow": null,
            "grid_area": null,
            "grid_auto_columns": null,
            "grid_auto_flow": null,
            "grid_auto_rows": null,
            "grid_column": null,
            "grid_gap": null,
            "grid_row": null,
            "grid_template_areas": null,
            "grid_template_columns": null,
            "grid_template_rows": null,
            "height": null,
            "justify_content": null,
            "justify_items": null,
            "left": null,
            "margin": null,
            "max_height": null,
            "max_width": null,
            "min_height": null,
            "min_width": null,
            "object_fit": null,
            "object_position": null,
            "order": null,
            "overflow": null,
            "overflow_x": null,
            "overflow_y": null,
            "padding": null,
            "right": null,
            "top": null,
            "visibility": null,
            "width": null
          }
        },
        "d05f32f92d9e4646a039188398d7050b": {
          "model_module": "@jupyter-widgets/controls",
          "model_name": "DescriptionStyleModel",
          "model_module_version": "1.5.0",
          "state": {
            "_model_module": "@jupyter-widgets/controls",
            "_model_module_version": "1.5.0",
            "_model_name": "DescriptionStyleModel",
            "_view_count": null,
            "_view_module": "@jupyter-widgets/base",
            "_view_module_version": "1.2.0",
            "_view_name": "StyleView",
            "description_width": ""
          }
        },
        "24d5811207bd4342993d3d2bc3b5c2f0": {
          "model_module": "@jupyter-widgets/base",
          "model_name": "LayoutModel",
          "model_module_version": "1.2.0",
          "state": {
            "_model_module": "@jupyter-widgets/base",
            "_model_module_version": "1.2.0",
            "_model_name": "LayoutModel",
            "_view_count": null,
            "_view_module": "@jupyter-widgets/base",
            "_view_module_version": "1.2.0",
            "_view_name": "LayoutView",
            "align_content": null,
            "align_items": null,
            "align_self": null,
            "border": null,
            "bottom": null,
            "display": null,
            "flex": null,
            "flex_flow": null,
            "grid_area": null,
            "grid_auto_columns": null,
            "grid_auto_flow": null,
            "grid_auto_rows": null,
            "grid_column": null,
            "grid_gap": null,
            "grid_row": null,
            "grid_template_areas": null,
            "grid_template_columns": null,
            "grid_template_rows": null,
            "height": null,
            "justify_content": null,
            "justify_items": null,
            "left": null,
            "margin": null,
            "max_height": null,
            "max_width": null,
            "min_height": null,
            "min_width": null,
            "object_fit": null,
            "object_position": null,
            "order": null,
            "overflow": null,
            "overflow_x": null,
            "overflow_y": null,
            "padding": null,
            "right": null,
            "top": null,
            "visibility": null,
            "width": null
          }
        },
        "13c05476824149d3a4d0e9cdcae8c418": {
          "model_module": "@jupyter-widgets/controls",
          "model_name": "ProgressStyleModel",
          "model_module_version": "1.5.0",
          "state": {
            "_model_module": "@jupyter-widgets/controls",
            "_model_module_version": "1.5.0",
            "_model_name": "ProgressStyleModel",
            "_view_count": null,
            "_view_module": "@jupyter-widgets/base",
            "_view_module_version": "1.2.0",
            "_view_name": "StyleView",
            "bar_color": null,
            "description_width": ""
          }
        },
        "77c6159d0aa643f599e6caa3214f70cc": {
          "model_module": "@jupyter-widgets/base",
          "model_name": "LayoutModel",
          "model_module_version": "1.2.0",
          "state": {
            "_model_module": "@jupyter-widgets/base",
            "_model_module_version": "1.2.0",
            "_model_name": "LayoutModel",
            "_view_count": null,
            "_view_module": "@jupyter-widgets/base",
            "_view_module_version": "1.2.0",
            "_view_name": "LayoutView",
            "align_content": null,
            "align_items": null,
            "align_self": null,
            "border": null,
            "bottom": null,
            "display": null,
            "flex": null,
            "flex_flow": null,
            "grid_area": null,
            "grid_auto_columns": null,
            "grid_auto_flow": null,
            "grid_auto_rows": null,
            "grid_column": null,
            "grid_gap": null,
            "grid_row": null,
            "grid_template_areas": null,
            "grid_template_columns": null,
            "grid_template_rows": null,
            "height": null,
            "justify_content": null,
            "justify_items": null,
            "left": null,
            "margin": null,
            "max_height": null,
            "max_width": null,
            "min_height": null,
            "min_width": null,
            "object_fit": null,
            "object_position": null,
            "order": null,
            "overflow": null,
            "overflow_x": null,
            "overflow_y": null,
            "padding": null,
            "right": null,
            "top": null,
            "visibility": null,
            "width": null
          }
        },
        "2843e0b8809d4c1e8cdb6c1f0a82a484": {
          "model_module": "@jupyter-widgets/controls",
          "model_name": "DescriptionStyleModel",
          "model_module_version": "1.5.0",
          "state": {
            "_model_module": "@jupyter-widgets/controls",
            "_model_module_version": "1.5.0",
            "_model_name": "DescriptionStyleModel",
            "_view_count": null,
            "_view_module": "@jupyter-widgets/base",
            "_view_module_version": "1.2.0",
            "_view_name": "StyleView",
            "description_width": ""
          }
        }
      }
    }
  },
  "nbformat": 4,
  "nbformat_minor": 0
}